{
 "cells": [
  {
   "cell_type": "code",
   "execution_count": 1,
   "id": "9ae21b7b-aa07-45d2-b6e9-8773e5859b73",
   "metadata": {},
   "outputs": [],
   "source": [
    "import pandas as pd\n",
    "import numpy as np\n",
    "import math\n",
    "from sklearn.model_selection import train_test_split\n",
    "from sklearn.linear_model import LinearRegression, LogisticRegression\n",
    "from sklearn.metrics import mean_squared_error, mean_absolute_error\n",
    "import matplotlib.pyplot as plt\n",
    "import seaborn as sns\n",
    "from utils.regression import RegressionAnalysis\n",
    "from utils.regression import CorrelationAnalysis\n",
    "from utils.regression import plot_linear_fit"
   ]
  },
  {
   "cell_type": "code",
   "execution_count": 2,
   "id": "df0ee1cc-f832-4481-bbd1-1bf0b030a161",
   "metadata": {},
   "outputs": [],
   "source": [
    "any_win = pd.read_csv(r'../data/any_win_data.csv')\n",
    "best_pic = pd.read_csv(r'../data/best_picture_data.csv')"
   ]
  },
  {
   "cell_type": "code",
   "execution_count": 3,
   "id": "58c70f69-5aa0-4e98-8bae-2d0e7f3f8f7f",
   "metadata": {},
   "outputs": [
    {
     "data": {
      "text/html": [
       "<div>\n",
       "<style scoped>\n",
       "    .dataframe tbody tr th:only-of-type {\n",
       "        vertical-align: middle;\n",
       "    }\n",
       "\n",
       "    .dataframe tbody tr th {\n",
       "        vertical-align: top;\n",
       "    }\n",
       "\n",
       "    .dataframe thead th {\n",
       "        text-align: right;\n",
       "    }\n",
       "</style>\n",
       "<table border=\"1\" class=\"dataframe\">\n",
       "  <thead>\n",
       "    <tr style=\"text-align: right;\">\n",
       "      <th></th>\n",
       "      <th>Unnamed: 0</th>\n",
       "      <th>year_film</th>\n",
       "      <th>movie_title</th>\n",
       "      <th>num_wins</th>\n",
       "      <th>rotten_tomatoes_link</th>\n",
       "      <th>critic_name</th>\n",
       "      <th>top_critic</th>\n",
       "      <th>review_type</th>\n",
       "      <th>review_score</th>\n",
       "    </tr>\n",
       "  </thead>\n",
       "  <tbody>\n",
       "    <tr>\n",
       "      <th>0</th>\n",
       "      <td>0</td>\n",
       "      <td>1927</td>\n",
       "      <td>Speedy</td>\n",
       "      <td>0</td>\n",
       "      <td>m/speedy</td>\n",
       "      <td>Matt Brunson</td>\n",
       "      <td>False</td>\n",
       "      <td>Fresh</td>\n",
       "      <td>87.5</td>\n",
       "    </tr>\n",
       "    <tr>\n",
       "      <th>1</th>\n",
       "      <td>2</td>\n",
       "      <td>1927</td>\n",
       "      <td>Speedy</td>\n",
       "      <td>0</td>\n",
       "      <td>m/speedy</td>\n",
       "      <td>Sarah Boslaugh</td>\n",
       "      <td>False</td>\n",
       "      <td>Fresh</td>\n",
       "      <td>70.0</td>\n",
       "    </tr>\n",
       "    <tr>\n",
       "      <th>2</th>\n",
       "      <td>4</td>\n",
       "      <td>1927</td>\n",
       "      <td>Speedy</td>\n",
       "      <td>0</td>\n",
       "      <td>m/speedy</td>\n",
       "      <td>Ben Nicholson</td>\n",
       "      <td>False</td>\n",
       "      <td>Fresh</td>\n",
       "      <td>80.0</td>\n",
       "    </tr>\n",
       "    <tr>\n",
       "      <th>3</th>\n",
       "      <td>6</td>\n",
       "      <td>1927</td>\n",
       "      <td>Speedy</td>\n",
       "      <td>0</td>\n",
       "      <td>m/speedy</td>\n",
       "      <td>Dennis Schwartz</td>\n",
       "      <td>False</td>\n",
       "      <td>Fresh</td>\n",
       "      <td>83.0</td>\n",
       "    </tr>\n",
       "    <tr>\n",
       "      <th>4</th>\n",
       "      <td>8</td>\n",
       "      <td>1927</td>\n",
       "      <td>Speedy</td>\n",
       "      <td>0</td>\n",
       "      <td>m/speedy</td>\n",
       "      <td>Matthew Lucas</td>\n",
       "      <td>False</td>\n",
       "      <td>Fresh</td>\n",
       "      <td>75.0</td>\n",
       "    </tr>\n",
       "  </tbody>\n",
       "</table>\n",
       "</div>"
      ],
      "text/plain": [
       "   Unnamed: 0  year_film movie_title  num_wins rotten_tomatoes_link  \\\n",
       "0           0       1927      Speedy         0             m/speedy   \n",
       "1           2       1927      Speedy         0             m/speedy   \n",
       "2           4       1927      Speedy         0             m/speedy   \n",
       "3           6       1927      Speedy         0             m/speedy   \n",
       "4           8       1927      Speedy         0             m/speedy   \n",
       "\n",
       "       critic_name  top_critic review_type  review_score  \n",
       "0     Matt Brunson       False       Fresh          87.5  \n",
       "1   Sarah Boslaugh       False       Fresh          70.0  \n",
       "2    Ben Nicholson       False       Fresh          80.0  \n",
       "3  Dennis Schwartz       False       Fresh          83.0  \n",
       "4    Matthew Lucas       False       Fresh          75.0  "
      ]
     },
     "execution_count": 3,
     "metadata": {},
     "output_type": "execute_result"
    }
   ],
   "source": [
    "any_win.head()"
   ]
  },
  {
   "cell_type": "code",
   "execution_count": 4,
   "id": "5761320f-125d-45b7-8be4-db19ddebab77",
   "metadata": {},
   "outputs": [],
   "source": [
    "any_win = any_win[['rotten_tomatoes_link', 'num_wins', 'review_score']].groupby('rotten_tomatoes_link').agg({'num_wins': 'max', 'review_score': 'mean'})\n",
    "any_win['success'] = any_win.num_wins > 0"
   ]
  },
  {
   "cell_type": "code",
   "execution_count": 5,
   "id": "cfc55f7c-ba24-43c6-b3bb-92cc1dd15d53",
   "metadata": {},
   "outputs": [
    {
     "data": {
      "text/html": [
       "<div>\n",
       "<style scoped>\n",
       "    .dataframe tbody tr th:only-of-type {\n",
       "        vertical-align: middle;\n",
       "    }\n",
       "\n",
       "    .dataframe tbody tr th {\n",
       "        vertical-align: top;\n",
       "    }\n",
       "\n",
       "    .dataframe thead th {\n",
       "        text-align: right;\n",
       "    }\n",
       "</style>\n",
       "<table border=\"1\" class=\"dataframe\">\n",
       "  <thead>\n",
       "    <tr style=\"text-align: right;\">\n",
       "      <th></th>\n",
       "      <th>num_wins</th>\n",
       "      <th>review_score</th>\n",
       "      <th>success</th>\n",
       "    </tr>\n",
       "    <tr>\n",
       "      <th>rotten_tomatoes_link</th>\n",
       "      <th></th>\n",
       "      <th></th>\n",
       "      <th></th>\n",
       "    </tr>\n",
       "  </thead>\n",
       "  <tbody>\n",
       "    <tr>\n",
       "      <th>m/10</th>\n",
       "      <td>0</td>\n",
       "      <td>64.547619</td>\n",
       "      <td>False</td>\n",
       "    </tr>\n",
       "    <tr>\n",
       "      <th>m/1000123-310_to_yuma</th>\n",
       "      <td>0</td>\n",
       "      <td>81.613636</td>\n",
       "      <td>False</td>\n",
       "    </tr>\n",
       "    <tr>\n",
       "      <th>m/1000224-accused</th>\n",
       "      <td>1</td>\n",
       "      <td>72.333333</td>\n",
       "      <td>True</td>\n",
       "    </tr>\n",
       "    <tr>\n",
       "      <th>m/1000253-adams_rib</th>\n",
       "      <td>0</td>\n",
       "      <td>81.690476</td>\n",
       "      <td>False</td>\n",
       "    </tr>\n",
       "    <tr>\n",
       "      <th>m/10002635-bridge_of_san_luis_rey</th>\n",
       "      <td>1</td>\n",
       "      <td>38.264706</td>\n",
       "      <td>True</td>\n",
       "    </tr>\n",
       "  </tbody>\n",
       "</table>\n",
       "</div>"
      ],
      "text/plain": [
       "                                   num_wins  review_score  success\n",
       "rotten_tomatoes_link                                              \n",
       "m/10                                      0     64.547619    False\n",
       "m/1000123-310_to_yuma                     0     81.613636    False\n",
       "m/1000224-accused                         1     72.333333     True\n",
       "m/1000253-adams_rib                       0     81.690476    False\n",
       "m/10002635-bridge_of_san_luis_rey         1     38.264706     True"
      ]
     },
     "execution_count": 5,
     "metadata": {},
     "output_type": "execute_result"
    }
   ],
   "source": [
    "any_win.head()"
   ]
  },
  {
   "cell_type": "code",
   "execution_count": 6,
   "id": "bbee394e-eb35-4b44-9b20-6b5a760dbd89",
   "metadata": {},
   "outputs": [],
   "source": [
    "m = pd.read_csv(r'../data/rotten_tomatoes_movies.csv')\n",
    "cr = pd.read_csv(r'../data/rotten_tomatoes_critic_reviews.csv')\n",
    "o = pd.read_csv(r'../data/the_oscar_award.csv')"
   ]
  },
  {
   "cell_type": "code",
   "execution_count": 7,
   "id": "aca45e5d-1378-4c69-8332-d57364a9e755",
   "metadata": {},
   "outputs": [
    {
     "data": {
      "text/html": [
       "<div>\n",
       "<style scoped>\n",
       "    .dataframe tbody tr th:only-of-type {\n",
       "        vertical-align: middle;\n",
       "    }\n",
       "\n",
       "    .dataframe tbody tr th {\n",
       "        vertical-align: top;\n",
       "    }\n",
       "\n",
       "    .dataframe thead th {\n",
       "        text-align: right;\n",
       "    }\n",
       "</style>\n",
       "<table border=\"1\" class=\"dataframe\">\n",
       "  <thead>\n",
       "    <tr style=\"text-align: right;\">\n",
       "      <th></th>\n",
       "      <th>rotten_tomatoes_link</th>\n",
       "      <th>movie_title</th>\n",
       "      <th>movie_info</th>\n",
       "      <th>critics_consensus</th>\n",
       "      <th>content_rating</th>\n",
       "      <th>genres</th>\n",
       "      <th>directors</th>\n",
       "      <th>authors</th>\n",
       "      <th>actors</th>\n",
       "      <th>original_release_date</th>\n",
       "      <th>...</th>\n",
       "      <th>production_company</th>\n",
       "      <th>tomatometer_status</th>\n",
       "      <th>tomatometer_rating</th>\n",
       "      <th>tomatometer_count</th>\n",
       "      <th>audience_status</th>\n",
       "      <th>audience_rating</th>\n",
       "      <th>audience_count</th>\n",
       "      <th>tomatometer_top_critics_count</th>\n",
       "      <th>tomatometer_fresh_critics_count</th>\n",
       "      <th>tomatometer_rotten_critics_count</th>\n",
       "    </tr>\n",
       "  </thead>\n",
       "  <tbody>\n",
       "    <tr>\n",
       "      <th>0</th>\n",
       "      <td>m/0814255</td>\n",
       "      <td>Percy Jackson &amp; the Olympians: The Lightning T...</td>\n",
       "      <td>Always trouble-prone, the life of teenager Per...</td>\n",
       "      <td>Though it may seem like just another Harry Pot...</td>\n",
       "      <td>PG</td>\n",
       "      <td>Action &amp; Adventure, Comedy, Drama, Science Fic...</td>\n",
       "      <td>Chris Columbus</td>\n",
       "      <td>Craig Titley, Chris Columbus, Rick Riordan</td>\n",
       "      <td>Logan Lerman, Brandon T. Jackson, Alexandra Da...</td>\n",
       "      <td>2010-02-12</td>\n",
       "      <td>...</td>\n",
       "      <td>20th Century Fox</td>\n",
       "      <td>Rotten</td>\n",
       "      <td>49.0</td>\n",
       "      <td>149.0</td>\n",
       "      <td>Spilled</td>\n",
       "      <td>53.0</td>\n",
       "      <td>254421.0</td>\n",
       "      <td>43</td>\n",
       "      <td>73</td>\n",
       "      <td>76</td>\n",
       "    </tr>\n",
       "    <tr>\n",
       "      <th>1</th>\n",
       "      <td>m/0878835</td>\n",
       "      <td>Please Give</td>\n",
       "      <td>Kate (Catherine Keener) and her husband Alex (...</td>\n",
       "      <td>Nicole Holofcener's newest might seem slight i...</td>\n",
       "      <td>R</td>\n",
       "      <td>Comedy</td>\n",
       "      <td>Nicole Holofcener</td>\n",
       "      <td>Nicole Holofcener</td>\n",
       "      <td>Catherine Keener, Amanda Peet, Oliver Platt, R...</td>\n",
       "      <td>2010-04-30</td>\n",
       "      <td>...</td>\n",
       "      <td>Sony Pictures Classics</td>\n",
       "      <td>Certified-Fresh</td>\n",
       "      <td>87.0</td>\n",
       "      <td>142.0</td>\n",
       "      <td>Upright</td>\n",
       "      <td>64.0</td>\n",
       "      <td>11574.0</td>\n",
       "      <td>44</td>\n",
       "      <td>123</td>\n",
       "      <td>19</td>\n",
       "    </tr>\n",
       "    <tr>\n",
       "      <th>2</th>\n",
       "      <td>m/10</td>\n",
       "      <td>10</td>\n",
       "      <td>A successful, middle-aged Hollywood songwriter...</td>\n",
       "      <td>Blake Edwards' bawdy comedy may not score a pe...</td>\n",
       "      <td>R</td>\n",
       "      <td>Comedy, Romance</td>\n",
       "      <td>Blake Edwards</td>\n",
       "      <td>Blake Edwards</td>\n",
       "      <td>Dudley Moore, Bo Derek, Julie Andrews, Robert ...</td>\n",
       "      <td>1979-10-05</td>\n",
       "      <td>...</td>\n",
       "      <td>Waner Bros.</td>\n",
       "      <td>Fresh</td>\n",
       "      <td>67.0</td>\n",
       "      <td>24.0</td>\n",
       "      <td>Spilled</td>\n",
       "      <td>53.0</td>\n",
       "      <td>14684.0</td>\n",
       "      <td>2</td>\n",
       "      <td>16</td>\n",
       "      <td>8</td>\n",
       "    </tr>\n",
       "    <tr>\n",
       "      <th>3</th>\n",
       "      <td>m/1000013-12_angry_men</td>\n",
       "      <td>12 Angry Men (Twelve Angry Men)</td>\n",
       "      <td>Following the closing arguments in a murder tr...</td>\n",
       "      <td>Sidney Lumet's feature debut is a superbly wri...</td>\n",
       "      <td>NR</td>\n",
       "      <td>Classics, Drama</td>\n",
       "      <td>Sidney Lumet</td>\n",
       "      <td>Reginald Rose</td>\n",
       "      <td>Martin Balsam, John Fiedler, Lee J. Cobb, E.G....</td>\n",
       "      <td>1957-04-13</td>\n",
       "      <td>...</td>\n",
       "      <td>Criterion Collection</td>\n",
       "      <td>Certified-Fresh</td>\n",
       "      <td>100.0</td>\n",
       "      <td>54.0</td>\n",
       "      <td>Upright</td>\n",
       "      <td>97.0</td>\n",
       "      <td>105386.0</td>\n",
       "      <td>6</td>\n",
       "      <td>54</td>\n",
       "      <td>0</td>\n",
       "    </tr>\n",
       "    <tr>\n",
       "      <th>4</th>\n",
       "      <td>m/1000079-20000_leagues_under_the_sea</td>\n",
       "      <td>20,000 Leagues Under The Sea</td>\n",
       "      <td>In 1866, Professor Pierre M. Aronnax (Paul Luk...</td>\n",
       "      <td>One of Disney's finest live-action adventures,...</td>\n",
       "      <td>G</td>\n",
       "      <td>Action &amp; Adventure, Drama, Kids &amp; Family</td>\n",
       "      <td>Richard Fleischer</td>\n",
       "      <td>Earl Felton</td>\n",
       "      <td>James Mason, Kirk Douglas, Paul Lukas, Peter L...</td>\n",
       "      <td>1954-01-01</td>\n",
       "      <td>...</td>\n",
       "      <td>Disney</td>\n",
       "      <td>Fresh</td>\n",
       "      <td>89.0</td>\n",
       "      <td>27.0</td>\n",
       "      <td>Upright</td>\n",
       "      <td>74.0</td>\n",
       "      <td>68918.0</td>\n",
       "      <td>5</td>\n",
       "      <td>24</td>\n",
       "      <td>3</td>\n",
       "    </tr>\n",
       "  </tbody>\n",
       "</table>\n",
       "<p>5 rows × 22 columns</p>\n",
       "</div>"
      ],
      "text/plain": [
       "                    rotten_tomatoes_link  \\\n",
       "0                              m/0814255   \n",
       "1                              m/0878835   \n",
       "2                                   m/10   \n",
       "3                 m/1000013-12_angry_men   \n",
       "4  m/1000079-20000_leagues_under_the_sea   \n",
       "\n",
       "                                         movie_title  \\\n",
       "0  Percy Jackson & the Olympians: The Lightning T...   \n",
       "1                                        Please Give   \n",
       "2                                                 10   \n",
       "3                    12 Angry Men (Twelve Angry Men)   \n",
       "4                       20,000 Leagues Under The Sea   \n",
       "\n",
       "                                          movie_info  \\\n",
       "0  Always trouble-prone, the life of teenager Per...   \n",
       "1  Kate (Catherine Keener) and her husband Alex (...   \n",
       "2  A successful, middle-aged Hollywood songwriter...   \n",
       "3  Following the closing arguments in a murder tr...   \n",
       "4  In 1866, Professor Pierre M. Aronnax (Paul Luk...   \n",
       "\n",
       "                                   critics_consensus content_rating  \\\n",
       "0  Though it may seem like just another Harry Pot...             PG   \n",
       "1  Nicole Holofcener's newest might seem slight i...              R   \n",
       "2  Blake Edwards' bawdy comedy may not score a pe...              R   \n",
       "3  Sidney Lumet's feature debut is a superbly wri...             NR   \n",
       "4  One of Disney's finest live-action adventures,...              G   \n",
       "\n",
       "                                              genres          directors  \\\n",
       "0  Action & Adventure, Comedy, Drama, Science Fic...     Chris Columbus   \n",
       "1                                             Comedy  Nicole Holofcener   \n",
       "2                                    Comedy, Romance      Blake Edwards   \n",
       "3                                    Classics, Drama       Sidney Lumet   \n",
       "4           Action & Adventure, Drama, Kids & Family  Richard Fleischer   \n",
       "\n",
       "                                      authors  \\\n",
       "0  Craig Titley, Chris Columbus, Rick Riordan   \n",
       "1                           Nicole Holofcener   \n",
       "2                               Blake Edwards   \n",
       "3                               Reginald Rose   \n",
       "4                                 Earl Felton   \n",
       "\n",
       "                                              actors original_release_date  \\\n",
       "0  Logan Lerman, Brandon T. Jackson, Alexandra Da...            2010-02-12   \n",
       "1  Catherine Keener, Amanda Peet, Oliver Platt, R...            2010-04-30   \n",
       "2  Dudley Moore, Bo Derek, Julie Andrews, Robert ...            1979-10-05   \n",
       "3  Martin Balsam, John Fiedler, Lee J. Cobb, E.G....            1957-04-13   \n",
       "4  James Mason, Kirk Douglas, Paul Lukas, Peter L...            1954-01-01   \n",
       "\n",
       "   ...      production_company  tomatometer_status tomatometer_rating  \\\n",
       "0  ...        20th Century Fox              Rotten               49.0   \n",
       "1  ...  Sony Pictures Classics     Certified-Fresh               87.0   \n",
       "2  ...             Waner Bros.               Fresh               67.0   \n",
       "3  ...    Criterion Collection     Certified-Fresh              100.0   \n",
       "4  ...                  Disney               Fresh               89.0   \n",
       "\n",
       "  tomatometer_count  audience_status  audience_rating audience_count  \\\n",
       "0             149.0          Spilled             53.0       254421.0   \n",
       "1             142.0          Upright             64.0        11574.0   \n",
       "2              24.0          Spilled             53.0        14684.0   \n",
       "3              54.0          Upright             97.0       105386.0   \n",
       "4              27.0          Upright             74.0        68918.0   \n",
       "\n",
       "   tomatometer_top_critics_count  tomatometer_fresh_critics_count  \\\n",
       "0                             43                               73   \n",
       "1                             44                              123   \n",
       "2                              2                               16   \n",
       "3                              6                               54   \n",
       "4                              5                               24   \n",
       "\n",
       "   tomatometer_rotten_critics_count  \n",
       "0                                76  \n",
       "1                                19  \n",
       "2                                 8  \n",
       "3                                 0  \n",
       "4                                 3  \n",
       "\n",
       "[5 rows x 22 columns]"
      ]
     },
     "execution_count": 7,
     "metadata": {},
     "output_type": "execute_result"
    }
   ],
   "source": [
    "m.head()"
   ]
  },
  {
   "cell_type": "markdown",
   "id": "bf38eb37-9074-40c1-b58b-466b477b4a80",
   "metadata": {},
   "source": [
    "Historically, are rotten tomatoes ratings good predictors of Oscar Success?\n",
    "\n",
    "What defines Oscar Success?\n",
    "\n",
    "Is winning Best Actor the same as Oscar Success for a film?"
   ]
  },
  {
   "cell_type": "code",
   "execution_count": 8,
   "id": "1efb65a2-b66c-41d2-b3f7-c24c8faad93d",
   "metadata": {},
   "outputs": [],
   "source": [
    "data = pd.merge(m, any_win.rename({'num_wins': 'wins'}, axis=1), on='rotten_tomatoes_link', how='right', validate='one_to_one')"
   ]
  },
  {
   "cell_type": "code",
   "execution_count": 9,
   "id": "dbbfa28f-c400-4d99-b587-4461636ef808",
   "metadata": {},
   "outputs": [],
   "source": [
    "data = data.drop(\n",
    "    [\n",
    "        'movie_info', \n",
    "        'critics_consensus',\n",
    "        'content_rating',\n",
    "        'genres',\n",
    "        'directors',\n",
    "        'authors',\n",
    "        'actors',\n",
    "        'original_release_date',\n",
    "        'streaming_release_date',\n",
    "        'runtime',\n",
    "        'production_company',\n",
    "        'audience_status'\n",
    "    ], axis=1)"
   ]
  },
  {
   "cell_type": "code",
   "execution_count": 10,
   "id": "0ab69aa0-8ce2-45e5-aa4f-04889cb229a7",
   "metadata": {},
   "outputs": [
    {
     "data": {
      "text/html": [
       "<div>\n",
       "<style scoped>\n",
       "    .dataframe tbody tr th:only-of-type {\n",
       "        vertical-align: middle;\n",
       "    }\n",
       "\n",
       "    .dataframe tbody tr th {\n",
       "        vertical-align: top;\n",
       "    }\n",
       "\n",
       "    .dataframe thead th {\n",
       "        text-align: right;\n",
       "    }\n",
       "</style>\n",
       "<table border=\"1\" class=\"dataframe\">\n",
       "  <thead>\n",
       "    <tr style=\"text-align: right;\">\n",
       "      <th></th>\n",
       "      <th>rotten_tomatoes_link</th>\n",
       "      <th>movie_title</th>\n",
       "      <th>tomatometer_status</th>\n",
       "      <th>tomatometer_rating</th>\n",
       "      <th>tomatometer_count</th>\n",
       "      <th>audience_rating</th>\n",
       "      <th>audience_count</th>\n",
       "      <th>tomatometer_top_critics_count</th>\n",
       "      <th>tomatometer_fresh_critics_count</th>\n",
       "      <th>tomatometer_rotten_critics_count</th>\n",
       "      <th>wins</th>\n",
       "      <th>review_score</th>\n",
       "      <th>success</th>\n",
       "    </tr>\n",
       "  </thead>\n",
       "  <tbody>\n",
       "    <tr>\n",
       "      <th>0</th>\n",
       "      <td>m/10</td>\n",
       "      <td>10</td>\n",
       "      <td>Fresh</td>\n",
       "      <td>67.0</td>\n",
       "      <td>24.0</td>\n",
       "      <td>53.0</td>\n",
       "      <td>14684.0</td>\n",
       "      <td>2</td>\n",
       "      <td>16</td>\n",
       "      <td>8</td>\n",
       "      <td>0</td>\n",
       "      <td>64.547619</td>\n",
       "      <td>False</td>\n",
       "    </tr>\n",
       "    <tr>\n",
       "      <th>1</th>\n",
       "      <td>m/1000123-310_to_yuma</td>\n",
       "      <td>3:10 to Yuma</td>\n",
       "      <td>Fresh</td>\n",
       "      <td>96.0</td>\n",
       "      <td>28.0</td>\n",
       "      <td>79.0</td>\n",
       "      <td>9243.0</td>\n",
       "      <td>6</td>\n",
       "      <td>27</td>\n",
       "      <td>1</td>\n",
       "      <td>0</td>\n",
       "      <td>81.613636</td>\n",
       "      <td>False</td>\n",
       "    </tr>\n",
       "    <tr>\n",
       "      <th>2</th>\n",
       "      <td>m/1000224-accused</td>\n",
       "      <td>The Accused</td>\n",
       "      <td>Fresh</td>\n",
       "      <td>91.0</td>\n",
       "      <td>22.0</td>\n",
       "      <td>79.0</td>\n",
       "      <td>20821.0</td>\n",
       "      <td>1</td>\n",
       "      <td>20</td>\n",
       "      <td>2</td>\n",
       "      <td>1</td>\n",
       "      <td>72.333333</td>\n",
       "      <td>True</td>\n",
       "    </tr>\n",
       "    <tr>\n",
       "      <th>3</th>\n",
       "      <td>m/1000253-adams_rib</td>\n",
       "      <td>Adam's Rib</td>\n",
       "      <td>Fresh</td>\n",
       "      <td>96.0</td>\n",
       "      <td>28.0</td>\n",
       "      <td>86.0</td>\n",
       "      <td>10563.0</td>\n",
       "      <td>6</td>\n",
       "      <td>27</td>\n",
       "      <td>1</td>\n",
       "      <td>0</td>\n",
       "      <td>81.690476</td>\n",
       "      <td>False</td>\n",
       "    </tr>\n",
       "    <tr>\n",
       "      <th>4</th>\n",
       "      <td>m/10002635-bridge_of_san_luis_rey</td>\n",
       "      <td>The Bridge of San Luis Rey</td>\n",
       "      <td>Rotten</td>\n",
       "      <td>4.0</td>\n",
       "      <td>24.0</td>\n",
       "      <td>35.0</td>\n",
       "      <td>1935.0</td>\n",
       "      <td>13</td>\n",
       "      <td>1</td>\n",
       "      <td>23</td>\n",
       "      <td>1</td>\n",
       "      <td>38.264706</td>\n",
       "      <td>True</td>\n",
       "    </tr>\n",
       "  </tbody>\n",
       "</table>\n",
       "</div>"
      ],
      "text/plain": [
       "                rotten_tomatoes_link                 movie_title  \\\n",
       "0                               m/10                          10   \n",
       "1              m/1000123-310_to_yuma                3:10 to Yuma   \n",
       "2                  m/1000224-accused                 The Accused   \n",
       "3                m/1000253-adams_rib                  Adam's Rib   \n",
       "4  m/10002635-bridge_of_san_luis_rey  The Bridge of San Luis Rey   \n",
       "\n",
       "  tomatometer_status  tomatometer_rating  tomatometer_count  audience_rating  \\\n",
       "0              Fresh                67.0               24.0             53.0   \n",
       "1              Fresh                96.0               28.0             79.0   \n",
       "2              Fresh                91.0               22.0             79.0   \n",
       "3              Fresh                96.0               28.0             86.0   \n",
       "4             Rotten                 4.0               24.0             35.0   \n",
       "\n",
       "   audience_count  tomatometer_top_critics_count  \\\n",
       "0         14684.0                              2   \n",
       "1          9243.0                              6   \n",
       "2         20821.0                              1   \n",
       "3         10563.0                              6   \n",
       "4          1935.0                             13   \n",
       "\n",
       "   tomatometer_fresh_critics_count  tomatometer_rotten_critics_count  wins  \\\n",
       "0                               16                                 8     0   \n",
       "1                               27                                 1     0   \n",
       "2                               20                                 2     1   \n",
       "3                               27                                 1     0   \n",
       "4                                1                                23     1   \n",
       "\n",
       "   review_score  success  \n",
       "0     64.547619    False  \n",
       "1     81.613636    False  \n",
       "2     72.333333     True  \n",
       "3     81.690476    False  \n",
       "4     38.264706     True  "
      ]
     },
     "execution_count": 10,
     "metadata": {},
     "output_type": "execute_result"
    }
   ],
   "source": [
    "data.head()"
   ]
  },
  {
   "cell_type": "markdown",
   "id": "a6825211-326e-491d-8f36-c67839c4d416",
   "metadata": {},
   "source": [
    "data.review_score.corr(data.wins)"
   ]
  },
  {
   "cell_type": "code",
   "execution_count": 11,
   "id": "52a1d346-2d62-4033-a120-f65930c9efa6",
   "metadata": {},
   "outputs": [
    {
     "data": {
      "text/plain": [
       "array([<AxesSubplot:title={'center':'False'}, ylabel='Frequency'>,\n",
       "       <AxesSubplot:title={'center':'True'}, ylabel='Frequency'>],\n",
       "      dtype=object)"
      ]
     },
     "execution_count": 11,
     "metadata": {},
     "output_type": "execute_result"
    },
    {
     "data": {
      "image/png": "[encoded data removed]",
      "text/plain": [
       "<Figure size 432x288 with 2 Axes>"
      ]
     },
     "metadata": {
      "needs_background": "light"
     },
     "output_type": "display_data"
    }
   ],
   "source": [
    "data.plot.hist(column=['review_score'], by='success')"
   ]
  },
  {
   "cell_type": "code",
   "execution_count": 12,
   "id": "07430ada-daf5-4730-9c86-5e8c8c1cb44a",
   "metadata": {},
   "outputs": [
    {
     "data": {
      "image/png": "[encoded data removed]",
      "text/plain": [
       "<Figure size 432x288 with 1 Axes>"
      ]
     },
     "metadata": {
      "needs_background": "light"
     },
     "output_type": "display_data"
    }
   ],
   "source": [
    "data.boxplot(column='review_score', by='wins')\n",
    "plt.title('Average Critic Scores Grouped by Awards')\n",
    "plt.ylabel(\"Avg. Critic Rating\")\n",
    "plt.suptitle(\" \")\n",
    "plt.savefig(\"../images/ratings_boxplot_by_wins.png\")\n",
    "plt.show()"
   ]
  },
  {
   "cell_type": "markdown",
   "id": "8f176758-169d-4838-8446-5aede84673ff",
   "metadata": {},
   "source": [
    "Determining if rotten tomato scores are good predictors of Oscar Success:\n",
    "\n",
    "Aspects of Rotten Tomato Score\n",
    "\n",
    "    1. Audience Rating\n",
    "    2. Critics Fresh/Rotten \n",
    "    3. Critic specific scores from critics file\n",
    "    \n",
    "Metrics of Success\n",
    "\n",
    "    1. Number of Oscars won by the movie (More being more success) - Linear Regression Analysis\n",
    "    2. Winning any Oscar Award (Bool winning or not winning) - Logistic Regression Analysis\n",
    "    \n",
    "The analysis can then be broken down to all Oscar categories and per category to see if ratings are predictors of some categories but not others.\n",
    "    \n"
   ]
  },
  {
   "cell_type": "code",
   "execution_count": 13,
   "id": "ef573232-21ca-41c0-a770-47a4cbdecca6",
   "metadata": {},
   "outputs": [
    {
     "data": {
      "text/html": [
       "<div>\n",
       "<style scoped>\n",
       "    .dataframe tbody tr th:only-of-type {\n",
       "        vertical-align: middle;\n",
       "    }\n",
       "\n",
       "    .dataframe tbody tr th {\n",
       "        vertical-align: top;\n",
       "    }\n",
       "\n",
       "    .dataframe thead th {\n",
       "        text-align: right;\n",
       "    }\n",
       "</style>\n",
       "<table border=\"1\" class=\"dataframe\">\n",
       "  <thead>\n",
       "    <tr style=\"text-align: right;\">\n",
       "      <th></th>\n",
       "      <th>rotten_tomatoes_link</th>\n",
       "      <th>movie_title</th>\n",
       "      <th>tomatometer_status</th>\n",
       "      <th>tomatometer_rating</th>\n",
       "      <th>tomatometer_count</th>\n",
       "      <th>audience_rating</th>\n",
       "      <th>audience_count</th>\n",
       "      <th>tomatometer_top_critics_count</th>\n",
       "      <th>tomatometer_fresh_critics_count</th>\n",
       "      <th>tomatometer_rotten_critics_count</th>\n",
       "      <th>wins</th>\n",
       "      <th>review_score</th>\n",
       "      <th>success</th>\n",
       "    </tr>\n",
       "  </thead>\n",
       "  <tbody>\n",
       "  </tbody>\n",
       "</table>\n",
       "</div>"
      ],
      "text/plain": [
       "Empty DataFrame\n",
       "Columns: [rotten_tomatoes_link, movie_title, tomatometer_status, tomatometer_rating, tomatometer_count, audience_rating, audience_count, tomatometer_top_critics_count, tomatometer_fresh_critics_count, tomatometer_rotten_critics_count, wins, review_score, success]\n",
       "Index: []"
      ]
     },
     "execution_count": 13,
     "metadata": {},
     "output_type": "execute_result"
    }
   ],
   "source": [
    "data[data.tomatometer_rating.isna()]"
   ]
  },
  {
   "cell_type": "markdown",
   "id": "4ed629f5-a8e1-4ece-af8d-8dc3f5285c2e",
   "metadata": {},
   "source": [
    "### Correlation Analysis"
   ]
  },
  {
   "cell_type": "code",
   "execution_count": 14,
   "id": "9dde98d6-b3cb-471a-8e50-31678d61e309",
   "metadata": {},
   "outputs": [
    {
     "data": {
      "text/plain": [
       "Index(['rotten_tomatoes_link', 'movie_title', 'tomatometer_status',\n",
       "       'tomatometer_rating', 'tomatometer_count', 'audience_rating',\n",
       "       'audience_count', 'tomatometer_top_critics_count',\n",
       "       'tomatometer_fresh_critics_count', 'tomatometer_rotten_critics_count',\n",
       "       'wins', 'review_score', 'success'],\n",
       "      dtype='object')"
      ]
     },
     "execution_count": 14,
     "metadata": {},
     "output_type": "execute_result"
    }
   ],
   "source": [
    "data.columns"
   ]
  },
  {
   "cell_type": "code",
   "execution_count": 15,
   "id": "ab04fe27-6d27-45d9-9a82-264cbbaf5afe",
   "metadata": {},
   "outputs": [
    {
     "data": {
      "image/png": "[encoded data removed]",
      "text/plain": [
       "<Figure size 360x360 with 2 Axes>"
      ]
     },
     "metadata": {
      "needs_background": "light"
     },
     "output_type": "display_data"
    }
   ],
   "source": [
    "corr_analysis = CorrelationAnalysis(data.rename({'review_score': 'avg_critic_rating'}, axis=1))\n",
    "plt.figure(figsize=(5, 5))\n",
    "corr_analysis.plot_heatmap(['audience_rating', 'tomatometer_rating', 'avg_critic_rating', 'wins', 'success'], file_name=\"heatmap.png\")"
   ]
  },
  {
   "cell_type": "code",
   "execution_count": 16,
   "id": "70d45fbd-8425-46dd-9579-184bd49559fa",
   "metadata": {},
   "outputs": [
    {
     "data": {
      "text/plain": [
       "0.15980535341173221"
      ]
     },
     "execution_count": 16,
     "metadata": {},
     "output_type": "execute_result"
    }
   ],
   "source": [
    "#1. Is there correlation between audience rating and the number of Oscar awards a movie wins?\n",
    "corr_analysis.corr_coef('audience_rating', 'wins')"
   ]
  },
  {
   "cell_type": "code",
   "execution_count": 17,
   "id": "b2ebc58e-1f73-484c-a3b7-f0fcadfd650a",
   "metadata": {},
   "outputs": [
    {
     "data": {
      "text/plain": [
       "0.1061991317260247"
      ]
     },
     "execution_count": 17,
     "metadata": {},
     "output_type": "execute_result"
    }
   ],
   "source": [
    "#2. Is there a correlation between tomatometer rating and the number of Oscar awards a movie wins?\n",
    "corr_analysis.corr_coef('tomatometer_rating', 'wins')"
   ]
  },
  {
   "cell_type": "code",
   "execution_count": 18,
   "id": "bc70c601-c508-420d-a6da-acd6840c7602",
   "metadata": {},
   "outputs": [
    {
     "data": {
      "text/plain": [
       "0.20089408246355994"
      ]
     },
     "execution_count": 18,
     "metadata": {},
     "output_type": "execute_result"
    }
   ],
   "source": [
    "#3. Is there a correlation between critic scores and the number of Oscar awards a movie wins?\n",
    "corr_analysis.corr_coef('avg_critic_rating', 'wins')"
   ]
  },
  {
   "cell_type": "markdown",
   "id": "e77d09f5-47e3-4cf1-9215-cc59d820d5a4",
   "metadata": {},
   "source": [
    "### Regression Analysis"
   ]
  },
  {
   "cell_type": "code",
   "execution_count": 20,
   "id": "7d01980f-72eb-4795-9d21-ee3c8dc5a1b2",
   "metadata": {},
   "outputs": [],
   "source": [
    "#1. Regresion Analysis using number of awards won as measure of success\n",
    "lra_wins = RegressionAnalysis(data.drop(['wins', 'success'], axis=1), data.wins, False)"
   ]
  },
  {
   "cell_type": "code",
   "execution_count": 21,
   "id": "99cf4919-6782-4430-b340-e3dbe348c82e",
   "metadata": {},
   "outputs": [
    {
     "name": "stdout",
     "output_type": "stream",
     "text": [
      "0.032279850967322\n"
     ]
    },
    {
     "data": {
      "image/png": "[encoded data removed]",
      "text/plain": [
       "<Figure size 432x288 with 1 Axes>"
      ]
     },
     "metadata": {
      "needs_background": "light"
     },
     "output_type": "display_data"
    }
   ],
   "source": [
    "#1.1 Do audience ratings have a causal relationship with the number of Oscar awards a movie wins?\n",
    "lra_wins.set_X_cols(['audience_rating'])\n",
    "lra_wins.fit_train()\n",
    "print(lra_wins.score_test())\n",
    "plot_linear_fit(lra_wins.X_test(), lra_wins.predict_test(), lra_wins.y_test_)"
   ]
  },
  {
   "cell_type": "code",
   "execution_count": 22,
   "id": "c6ad9928-b338-47b2-9058-85c2e8d7c15d",
   "metadata": {},
   "outputs": [
    {
     "name": "stdout",
     "output_type": "stream",
     "text": [
      "0.01287685072976641\n"
     ]
    },
    {
     "data": {
      "image/png": "[encoded data removed]",
      "text/plain": [
       "<Figure size 432x288 with 1 Axes>"
      ]
     },
     "metadata": {
      "needs_background": "light"
     },
     "output_type": "display_data"
    }
   ],
   "source": [
    "#1.2 Do tomatometer_ratings have a causal relationship with the number of Oscar awards a movie wins?\n",
    "lra_wins.set_X_cols(['tomatometer_rating'])\n",
    "lra_wins.fit_train()\n",
    "print(lra_wins.score_test())\n",
    "plot_linear_fit(lra_wins.X_test(), lra_wins.predict_test(), lra_wins.y_test_)"
   ]
  },
  {
   "cell_type": "code",
   "execution_count": 23,
   "id": "acb5fe8a-0d3a-4941-af04-e5e4668cb6d3",
   "metadata": {},
   "outputs": [
    {
     "name": "stdout",
     "output_type": "stream",
     "text": [
      "0.04512938388837662\n"
     ]
    },
    {
     "data": {
      "image/png": "[encoded data removed]",
      "text/plain": [
       "<Figure size 432x288 with 1 Axes>"
      ]
     },
     "metadata": {
      "needs_background": "light"
     },
     "output_type": "display_data"
    }
   ],
   "source": [
    "#1.3 Do critic scores have a causal relationship with the number of Oscar awards a movie wins?\n",
    "lra_wins.set_X_cols(['review_score'])\n",
    "lra_wins.fit_train()\n",
    "print(lra_wins.score_test())\n",
    "plot_linear_fit(lra_wins.X_test(), lra_wins.predict_test(), lra_wins.y_test_)"
   ]
  },
  {
   "cell_type": "markdown",
   "id": "68543346-7701-4d5f-8c84-162fa457797d",
   "metadata": {},
   "source": [
    "### Regression Analysis on Winning Any Oscar Awards\n",
    "\n",
    "Define success as winning any Oscar award and recheck using Logistic Regression as a classification problem\n",
    "\n",
    "This approach runs into class imbalance right away that needs to be addressed before an accurate assessment can be made"
   ]
  },
  {
   "cell_type": "code",
   "execution_count": 24,
   "id": "78b5a095-43c1-4682-b1eb-08ae0798a235",
   "metadata": {},
   "outputs": [],
   "source": [
    "lga = RegressionAnalysis(data.drop(['wins', 'success'], axis=1), data.success, True)"
   ]
  },
  {
   "cell_type": "code",
   "execution_count": 25,
   "id": "e28ddfad-1d62-4ee5-9f1c-85fd87b39850",
   "metadata": {},
   "outputs": [
    {
     "name": "stdout",
     "output_type": "stream",
     "text": [
      "0.6548672566371682\n"
     ]
    },
    {
     "data": {
      "image/png": "[encoded data removed]",
      "text/plain": [
       "<Figure size 432x288 with 1 Axes>"
      ]
     },
     "metadata": {
      "needs_background": "light"
     },
     "output_type": "display_data"
    }
   ],
   "source": [
    "# audience score\n",
    "lga.set_X_cols(['audience_rating'])\n",
    "lga.fit_train()\n",
    "print(lga.score_test())\n",
    "plot_linear_fit(lga.X_test(), lga.predict_test(), lga.y_test_)"
   ]
  },
  {
   "cell_type": "code",
   "execution_count": 26,
   "id": "dc659afa-433d-4371-9116-b2440a639f8e",
   "metadata": {},
   "outputs": [
    {
     "name": "stdout",
     "output_type": "stream",
     "text": [
      "0.6548672566371682\n"
     ]
    },
    {
     "data": {
      "image/png": "[encoded data removed]",
      "text/plain": [
       "<Figure size 432x288 with 1 Axes>"
      ]
     },
     "metadata": {
      "needs_background": "light"
     },
     "output_type": "display_data"
    }
   ],
   "source": [
    "# tomatometer score\n",
    "lga.set_X_cols(['tomatometer_rating'])\n",
    "lga.fit_train()\n",
    "print(lga.score_test())\n",
    "plot_linear_fit(lga.X_test(), lga.predict_test(), lga.y_test_)"
   ]
  },
  {
   "cell_type": "code",
   "execution_count": 27,
   "id": "de93295c-728b-4ce8-be45-edfd7e8a4007",
   "metadata": {},
   "outputs": [
    {
     "name": "stdout",
     "output_type": "stream",
     "text": [
      "0.6637168141592921\n"
     ]
    },
    {
     "data": {
      "image/png": "[encoded data removed]",
      "text/plain": [
       "<Figure size 432x288 with 1 Axes>"
      ]
     },
     "metadata": {
      "needs_background": "light"
     },
     "output_type": "display_data"
    }
   ],
   "source": [
    "# average critic score\n",
    "lga.set_X_cols(['review_score'])\n",
    "lga.fit_train()\n",
    "print(lga.score_test())\n",
    "plot_linear_fit(lga.X_test(), lga.predict_test(), lga.y_test_)"
   ]
  },
  {
   "cell_type": "markdown",
   "id": "9c46f367-cdfd-4f9b-b76c-85b9d41ab9e0",
   "metadata": {},
   "source": [
    "## How well do Oscar awards predict historically?\n",
    "\n",
    "Using no test set, as we are checking historic fit"
   ]
  },
  {
   "cell_type": "code",
   "execution_count": 28,
   "id": "29f94c80-e933-4aed-b17c-1b46558d2cf1",
   "metadata": {},
   "outputs": [],
   "source": [
    "lra = RegressionAnalysis(data.review_score, data.wins, False, test_size = 0)\n",
    "lga = RegressionAnalysis(data.review_score, data.success, True, test_size = 0)"
   ]
  },
  {
   "cell_type": "code",
   "execution_count": 29,
   "id": "7606a36d-52d8-4fa4-a98e-6f74a06f7ba8",
   "metadata": {},
   "outputs": [
    {
     "name": "stdout",
     "output_type": "stream",
     "text": [
      "0.040358432368875374\n"
     ]
    },
    {
     "data": {
      "image/png": "[encoded data removed]",
      "text/plain": [
       "<Figure size 432x288 with 1 Axes>"
      ]
     },
     "metadata": {
      "needs_background": "light"
     },
     "output_type": "display_data"
    }
   ],
   "source": [
    "lra.fit_train()\n",
    "print(lra.score_test())\n",
    "plot_linear_fit(lra.X_test(), lra.predict_test(), lra.y_test_, y_label = \"Oscar Wins\", x_label = \"Review Score\", title=\"Fitting Oscar Wins using Review Scores\", output_filename=\"oscar_wins_review_score_fit.png\")"
   ]
  },
  {
   "cell_type": "code",
   "execution_count": 31,
   "id": "2e931cb8-ec79-4512-a716-7d9818fb6e73",
   "metadata": {},
   "outputs": [
    {
     "name": "stdout",
     "output_type": "stream",
     "text": [
      "0.6482055826318122\n"
     ]
    },
    {
     "data": {
      "image/png": "[encoded data removed]",
      "text/plain": [
       "<Figure size 432x288 with 1 Axes>"
      ]
     },
     "metadata": {
      "needs_background": "light"
     },
     "output_type": "display_data"
    }
   ],
   "source": [
    "lga.fit_train()\n",
    "print(lga.score_test())\n",
    "plot_linear_fit(lga.X_test(), lga.predict_test(), lga.y_test_, y_label = \"Oscar Success (True/False)\", x_label = \"Review Score\", title=\"Fitting Oscar Success using Review Scores\", output_filename=\"oscar_success_review_score_fit.png\")"
   ]
  },
  {
   "cell_type": "code",
   "execution_count": null,
   "id": "d880a162-1c3d-4062-b068-1ccd66510138",
   "metadata": {},
   "outputs": [],
   "source": []
  }
 ],
 "metadata": {
  "kernelspec": {
   "display_name": "Python 3 (ipykernel)",
   "language": "python",
   "name": "python3"
  },
  "language_info": {
   "codemirror_mode": {
    "name": "ipython",
    "version": 3
   },
   "file_extension": ".py",
   "mimetype": "text/x-python",
   "name": "python",
   "nbconvert_exporter": "python",
   "pygments_lexer": "ipython3",
   "version": "3.10.0"
  }
 },
 "nbformat": 4,
 "nbformat_minor": 5
}
