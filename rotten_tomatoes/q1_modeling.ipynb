{
 "cells": [
  {
   "cell_type": "markdown",
   "id": "ea55f2ed",
   "metadata": {},
   "source": [
    "<h1><center>Regression 1</center></h1>\n",
    "<center>How well does Rotten Tomatoes score predict \"best picture\" at the Oscars?</center>"
   ]
  },
  {
   "cell_type": "code",
   "execution_count": 1,
   "id": "daffda7e",
   "metadata": {},
   "outputs": [],
   "source": [
    "import numpy as np\n",
    "import pandas as pd\n",
    "import os\n",
    "\n",
    "from sklearn.linear_model import LogisticRegression\n",
    "from sklearn.metrics import confusion_matrix, ConfusionMatrixDisplay, accuracy_score\n",
    "\n",
    "from PIL import Image\n",
    "\n",
    "from rotten_tomatoes.utils.regression import RegressionAnalysis"
   ]
  },
  {
   "cell_type": "markdown",
   "id": "dbef3ca7",
   "metadata": {},
   "source": [
    "## Prepare data"
   ]
  },
  {
   "cell_type": "code",
   "execution_count": 2,
   "id": "d1858f18",
   "metadata": {},
   "outputs": [],
   "source": [
    "data = pd.read_csv('../data/best_picture_data.csv')\n",
    "data['review_score'] = data['review_score'].astype('float')"
   ]
  },
  {
   "cell_type": "code",
   "execution_count": 3,
   "id": "b4685766",
   "metadata": {},
   "outputs": [
    {
     "data": {
      "text/html": [
       "<div>\n",
       "<style scoped>\n",
       "    .dataframe tbody tr th:only-of-type {\n",
       "        vertical-align: middle;\n",
       "    }\n",
       "\n",
       "    .dataframe tbody tr th {\n",
       "        vertical-align: top;\n",
       "    }\n",
       "\n",
       "    .dataframe thead th {\n",
       "        text-align: right;\n",
       "    }\n",
       "</style>\n",
       "<table border=\"1\" class=\"dataframe\">\n",
       "  <thead>\n",
       "    <tr style=\"text-align: right;\">\n",
       "      <th></th>\n",
       "      <th>Unnamed: 0</th>\n",
       "      <th>year_film</th>\n",
       "      <th>category</th>\n",
       "      <th>movie_title</th>\n",
       "      <th>winner</th>\n",
       "      <th>rotten_tomatoes_link</th>\n",
       "      <th>critic_name</th>\n",
       "      <th>top_critic</th>\n",
       "      <th>review_type</th>\n",
       "      <th>review_score</th>\n",
       "    </tr>\n",
       "  </thead>\n",
       "  <tbody>\n",
       "    <tr>\n",
       "      <th>0</th>\n",
       "      <td>0</td>\n",
       "      <td>1927</td>\n",
       "      <td>OUTSTANDING PICTURE</td>\n",
       "      <td>The Racket</td>\n",
       "      <td>False</td>\n",
       "      <td>m/racket</td>\n",
       "      <td>Dennis Schwartz</td>\n",
       "      <td>False</td>\n",
       "      <td>Rotten</td>\n",
       "      <td>73.0</td>\n",
       "    </tr>\n",
       "    <tr>\n",
       "      <th>1</th>\n",
       "      <td>2</td>\n",
       "      <td>1927</td>\n",
       "      <td>OUTSTANDING PICTURE</td>\n",
       "      <td>The Racket</td>\n",
       "      <td>False</td>\n",
       "      <td>m/racket</td>\n",
       "      <td>Bosley Crowther</td>\n",
       "      <td>True</td>\n",
       "      <td>Rotten</td>\n",
       "      <td>40.0</td>\n",
       "    </tr>\n",
       "    <tr>\n",
       "      <th>2</th>\n",
       "      <td>4</td>\n",
       "      <td>1927</td>\n",
       "      <td>OUTSTANDING PICTURE</td>\n",
       "      <td>The Racket</td>\n",
       "      <td>False</td>\n",
       "      <td>m/racket</td>\n",
       "      <td>NaN</td>\n",
       "      <td>False</td>\n",
       "      <td>Fresh</td>\n",
       "      <td>100.0</td>\n",
       "    </tr>\n",
       "    <tr>\n",
       "      <th>3</th>\n",
       "      <td>6</td>\n",
       "      <td>1927</td>\n",
       "      <td>OUTSTANDING PICTURE</td>\n",
       "      <td>The Racket</td>\n",
       "      <td>False</td>\n",
       "      <td>m/racket</td>\n",
       "      <td>Emanuel Levy</td>\n",
       "      <td>False</td>\n",
       "      <td>Rotten</td>\n",
       "      <td>78.0</td>\n",
       "    </tr>\n",
       "    <tr>\n",
       "      <th>4</th>\n",
       "      <td>8</td>\n",
       "      <td>1927</td>\n",
       "      <td>OUTSTANDING PICTURE</td>\n",
       "      <td>Wings</td>\n",
       "      <td>True</td>\n",
       "      <td>m/wings</td>\n",
       "      <td>James Berardinelli</td>\n",
       "      <td>True</td>\n",
       "      <td>Fresh</td>\n",
       "      <td>75.0</td>\n",
       "    </tr>\n",
       "  </tbody>\n",
       "</table>\n",
       "</div>"
      ],
      "text/plain": [
       "   Unnamed: 0  year_film             category movie_title  winner  \\\n",
       "0           0       1927  OUTSTANDING PICTURE  The Racket   False   \n",
       "1           2       1927  OUTSTANDING PICTURE  The Racket   False   \n",
       "2           4       1927  OUTSTANDING PICTURE  The Racket   False   \n",
       "3           6       1927  OUTSTANDING PICTURE  The Racket   False   \n",
       "4           8       1927  OUTSTANDING PICTURE       Wings    True   \n",
       "\n",
       "  rotten_tomatoes_link         critic_name  top_critic review_type  \\\n",
       "0             m/racket     Dennis Schwartz       False      Rotten   \n",
       "1             m/racket     Bosley Crowther        True      Rotten   \n",
       "2             m/racket                 NaN       False       Fresh   \n",
       "3             m/racket        Emanuel Levy       False      Rotten   \n",
       "4              m/wings  James Berardinelli        True       Fresh   \n",
       "\n",
       "   review_score  \n",
       "0          73.0  \n",
       "1          40.0  \n",
       "2         100.0  \n",
       "3          78.0  \n",
       "4          75.0  "
      ]
     },
     "execution_count": 3,
     "metadata": {},
     "output_type": "execute_result"
    }
   ],
   "source": [
    "data.head()"
   ]
  },
  {
   "cell_type": "markdown",
   "id": "582b5774",
   "metadata": {},
   "source": [
    "## Plot this data"
   ]
  },
  {
   "cell_type": "code",
   "execution_count": 4,
   "id": "74453675",
   "metadata": {},
   "outputs": [],
   "source": [
    "import matplotlib.pyplot as plt\n",
    "\n",
    "def plot_binned_data(data: pd.DataFrame, outfile: str=\"\"): \n",
    "    bin_labels = ['80-100', '60-80', '40-60', '20-40', '0-20']\n",
    "    data.loc[(data['review_score'] > 0 ) & (data['review_score'] <= 20), 'bin'] = '0-20'\n",
    "    data.loc[(data['review_score'] > 20 ) & (data['review_score'] <= 40), 'bin'] = '20-40'\n",
    "    data.loc[(data['review_score'] > 40 ) & (data['review_score'] <= 60), 'bin'] = '40-60'\n",
    "    data.loc[(data['review_score'] > 60 ) & (data['review_score'] <= 80), 'bin'] = '60-80'\n",
    "    data.loc[(data['review_score'] > 80 ) & (data['review_score'] <= 100), 'bin'] = '80-100'\n",
    "    \n",
    "    plot_data = data[['bin', 'winner']]\n",
    "    plot_data = plot_data.value_counts().reset_index()\n",
    "    plot_data.columns = ['bin', 'winner', 'counts']\n",
    "    \n",
    "    # Make data square \n",
    "    square_data = [(x, y) for x in bin_labels for y in [True, False]]\n",
    "    square_data = pd.DataFrame(square_data, columns = ['bin', 'winner'])\n",
    "    square_data['counts_square'] = 0\n",
    "    plot_data = plot_data.merge(square_data, on=['bin', 'winner'], how='outer')\n",
    "    plot_data.loc[plot_data['counts'].isna(), 'counts'] = plot_data.loc[plot_data['counts'].isna(), 'counts_square']\n",
    "    \n",
    "    N = 5\n",
    "    yes_means = plot_data.loc[plot_data['winner']==True, 'counts']\n",
    "    no_means = plot_data.loc[plot_data['winner']==False, 'counts']\n",
    "\n",
    "    ind = np.arange(N)  # the x locations for the groups\n",
    "    width = 0.35       # the width of the bars\n",
    "\n",
    "    fig, ax = plt.subplots()\n",
    "    ax.bar(ind, yes_means, width, color='g')\n",
    "    ax.bar(ind + width, no_means, width, color='r')\n",
    "\n",
    "    ax.set_ylabel('Number of ratings')\n",
    "    ax.set_title('Ratings bins by Oscars win/loss')\n",
    "    ax.set_xticks(ind + width / 2)\n",
    "    ax.set_xticklabels(bin_labels)\n",
    "\n",
    "    ax.legend(('Win', 'Loss'))\n",
    "   \n",
    "    if outfile:\n",
    "        plt.savefig(outfile)\n",
    "    \n",
    "    plt.show()"
   ]
  },
  {
   "cell_type": "code",
   "execution_count": 250,
   "id": "aff92d9a",
   "metadata": {},
   "outputs": [
    {
     "data": {
      "image/png": "[encoded data removed]",
      "text/plain": [
       "<Figure size 640x480 with 1 Axes>"
      ]
     },
     "metadata": {},
     "output_type": "display_data"
    }
   ],
   "source": [
    "plot_binned_data(data, outfile='../images/ratings_bins_all.png')"
   ]
  },
  {
   "cell_type": "markdown",
   "id": "73030222",
   "metadata": {},
   "source": [
    "This is telling me that a rotten tomatoes rating might not be a good predictor of an Oscars win. \n",
    "Maybe try reviewing some of these low-scoring Oscars wins by hand. "
   ]
  },
  {
   "cell_type": "code",
   "execution_count": 5,
   "id": "03fecde3",
   "metadata": {},
   "outputs": [
    {
     "data": {
      "text/html": [
       "<div>\n",
       "<style scoped>\n",
       "    .dataframe tbody tr th:only-of-type {\n",
       "        vertical-align: middle;\n",
       "    }\n",
       "\n",
       "    .dataframe tbody tr th {\n",
       "        vertical-align: top;\n",
       "    }\n",
       "\n",
       "    .dataframe thead th {\n",
       "        text-align: right;\n",
       "    }\n",
       "</style>\n",
       "<table border=\"1\" class=\"dataframe\">\n",
       "  <thead>\n",
       "    <tr style=\"text-align: right;\">\n",
       "      <th></th>\n",
       "      <th>Unnamed: 0</th>\n",
       "      <th>year_film</th>\n",
       "      <th>category</th>\n",
       "      <th>movie_title</th>\n",
       "      <th>winner</th>\n",
       "      <th>rotten_tomatoes_link</th>\n",
       "      <th>critic_name</th>\n",
       "      <th>top_critic</th>\n",
       "      <th>review_type</th>\n",
       "      <th>review_score</th>\n",
       "    </tr>\n",
       "  </thead>\n",
       "  <tbody>\n",
       "    <tr>\n",
       "      <th>42</th>\n",
       "      <td>46</td>\n",
       "      <td>1928</td>\n",
       "      <td>OUTSTANDING PICTURE</td>\n",
       "      <td>The Broadway Melody</td>\n",
       "      <td>True</td>\n",
       "      <td>m/broadway_melody</td>\n",
       "      <td>Matt Easterbrook</td>\n",
       "      <td>False</td>\n",
       "      <td>Rotten</td>\n",
       "      <td>40.0</td>\n",
       "    </tr>\n",
       "    <tr>\n",
       "      <th>47</th>\n",
       "      <td>51</td>\n",
       "      <td>1928</td>\n",
       "      <td>OUTSTANDING PICTURE</td>\n",
       "      <td>The Broadway Melody</td>\n",
       "      <td>True</td>\n",
       "      <td>m/broadway_melody</td>\n",
       "      <td>Michael W. Phillips, Jr.</td>\n",
       "      <td>False</td>\n",
       "      <td>Rotten</td>\n",
       "      <td>40.0</td>\n",
       "    </tr>\n",
       "    <tr>\n",
       "      <th>53</th>\n",
       "      <td>57</td>\n",
       "      <td>1928</td>\n",
       "      <td>OUTSTANDING PICTURE</td>\n",
       "      <td>The Broadway Melody</td>\n",
       "      <td>True</td>\n",
       "      <td>m/broadway_melody</td>\n",
       "      <td>Tim Brayton</td>\n",
       "      <td>False</td>\n",
       "      <td>Rotten</td>\n",
       "      <td>30.0</td>\n",
       "    </tr>\n",
       "    <tr>\n",
       "      <th>219</th>\n",
       "      <td>226</td>\n",
       "      <td>1941</td>\n",
       "      <td>OUTSTANDING MOTION PICTURE</td>\n",
       "      <td>How Green Was My Valley</td>\n",
       "      <td>True</td>\n",
       "      <td>m/how_green_was_my_valley</td>\n",
       "      <td>Rob Vaux</td>\n",
       "      <td>False</td>\n",
       "      <td>Rotten</td>\n",
       "      <td>40.0</td>\n",
       "    </tr>\n",
       "    <tr>\n",
       "      <th>234</th>\n",
       "      <td>241</td>\n",
       "      <td>1941</td>\n",
       "      <td>OUTSTANDING MOTION PICTURE</td>\n",
       "      <td>How Green Was My Valley</td>\n",
       "      <td>True</td>\n",
       "      <td>m/how_green_was_my_valley</td>\n",
       "      <td>Derek Smith</td>\n",
       "      <td>False</td>\n",
       "      <td>Rotten</td>\n",
       "      <td>37.5</td>\n",
       "    </tr>\n",
       "    <tr>\n",
       "      <th>...</th>\n",
       "      <td>...</td>\n",
       "      <td>...</td>\n",
       "      <td>...</td>\n",
       "      <td>...</td>\n",
       "      <td>...</td>\n",
       "      <td>...</td>\n",
       "      <td>...</td>\n",
       "      <td>...</td>\n",
       "      <td>...</td>\n",
       "      <td>...</td>\n",
       "    </tr>\n",
       "    <tr>\n",
       "      <th>37164</th>\n",
       "      <td>40653</td>\n",
       "      <td>2019</td>\n",
       "      <td>BEST PICTURE</td>\n",
       "      <td>Parasite</td>\n",
       "      <td>True</td>\n",
       "      <td>m/parasite_1982</td>\n",
       "      <td>Alex Sandell</td>\n",
       "      <td>False</td>\n",
       "      <td>Rotten</td>\n",
       "      <td>20.0</td>\n",
       "    </tr>\n",
       "    <tr>\n",
       "      <th>37165</th>\n",
       "      <td>40654</td>\n",
       "      <td>2019</td>\n",
       "      <td>BEST PICTURE</td>\n",
       "      <td>Parasite</td>\n",
       "      <td>True</td>\n",
       "      <td>m/parasite_1982</td>\n",
       "      <td>David Nusair</td>\n",
       "      <td>False</td>\n",
       "      <td>Rotten</td>\n",
       "      <td>0.0</td>\n",
       "    </tr>\n",
       "    <tr>\n",
       "      <th>37166</th>\n",
       "      <td>40655</td>\n",
       "      <td>2019</td>\n",
       "      <td>BEST PICTURE</td>\n",
       "      <td>Parasite</td>\n",
       "      <td>True</td>\n",
       "      <td>m/parasite_1982</td>\n",
       "      <td>Jake Euker</td>\n",
       "      <td>False</td>\n",
       "      <td>Rotten</td>\n",
       "      <td>20.0</td>\n",
       "    </tr>\n",
       "    <tr>\n",
       "      <th>37167</th>\n",
       "      <td>40656</td>\n",
       "      <td>2019</td>\n",
       "      <td>BEST PICTURE</td>\n",
       "      <td>Parasite</td>\n",
       "      <td>True</td>\n",
       "      <td>m/parasite_1982</td>\n",
       "      <td>Scott Weinberg</td>\n",
       "      <td>False</td>\n",
       "      <td>Rotten</td>\n",
       "      <td>30.0</td>\n",
       "    </tr>\n",
       "    <tr>\n",
       "      <th>37169</th>\n",
       "      <td>40658</td>\n",
       "      <td>2019</td>\n",
       "      <td>BEST PICTURE</td>\n",
       "      <td>Parasite</td>\n",
       "      <td>True</td>\n",
       "      <td>m/parasite_1982</td>\n",
       "      <td>Mike Massie</td>\n",
       "      <td>False</td>\n",
       "      <td>Fresh</td>\n",
       "      <td>10.0</td>\n",
       "    </tr>\n",
       "  </tbody>\n",
       "</table>\n",
       "<p>306 rows × 10 columns</p>\n",
       "</div>"
      ],
      "text/plain": [
       "       Unnamed: 0  year_film                    category  \\\n",
       "42             46       1928         OUTSTANDING PICTURE   \n",
       "47             51       1928         OUTSTANDING PICTURE   \n",
       "53             57       1928         OUTSTANDING PICTURE   \n",
       "219           226       1941  OUTSTANDING MOTION PICTURE   \n",
       "234           241       1941  OUTSTANDING MOTION PICTURE   \n",
       "...           ...        ...                         ...   \n",
       "37164       40653       2019                BEST PICTURE   \n",
       "37165       40654       2019                BEST PICTURE   \n",
       "37166       40655       2019                BEST PICTURE   \n",
       "37167       40656       2019                BEST PICTURE   \n",
       "37169       40658       2019                BEST PICTURE   \n",
       "\n",
       "                   movie_title  winner       rotten_tomatoes_link  \\\n",
       "42         The Broadway Melody    True          m/broadway_melody   \n",
       "47         The Broadway Melody    True          m/broadway_melody   \n",
       "53         The Broadway Melody    True          m/broadway_melody   \n",
       "219    How Green Was My Valley    True  m/how_green_was_my_valley   \n",
       "234    How Green Was My Valley    True  m/how_green_was_my_valley   \n",
       "...                        ...     ...                        ...   \n",
       "37164                 Parasite    True            m/parasite_1982   \n",
       "37165                 Parasite    True            m/parasite_1982   \n",
       "37166                 Parasite    True            m/parasite_1982   \n",
       "37167                 Parasite    True            m/parasite_1982   \n",
       "37169                 Parasite    True            m/parasite_1982   \n",
       "\n",
       "                    critic_name  top_critic review_type  review_score  \n",
       "42             Matt Easterbrook       False      Rotten          40.0  \n",
       "47     Michael W. Phillips, Jr.       False      Rotten          40.0  \n",
       "53                  Tim Brayton       False      Rotten          30.0  \n",
       "219                    Rob Vaux       False      Rotten          40.0  \n",
       "234                 Derek Smith       False      Rotten          37.5  \n",
       "...                         ...         ...         ...           ...  \n",
       "37164              Alex Sandell       False      Rotten          20.0  \n",
       "37165              David Nusair       False      Rotten           0.0  \n",
       "37166                Jake Euker       False      Rotten          20.0  \n",
       "37167            Scott Weinberg       False      Rotten          30.0  \n",
       "37169               Mike Massie       False       Fresh          10.0  \n",
       "\n",
       "[306 rows x 10 columns]"
      ]
     },
     "execution_count": 5,
     "metadata": {},
     "output_type": "execute_result"
    }
   ],
   "source": [
    "data.loc[(data['winner']==True) & (data['review_score']<50)]"
   ]
  },
  {
   "cell_type": "code",
   "execution_count": 6,
   "id": "cddd6dbf",
   "metadata": {},
   "outputs": [
    {
     "data": {
      "text/html": [
       "<div>\n",
       "<style scoped>\n",
       "    .dataframe tbody tr th:only-of-type {\n",
       "        vertical-align: middle;\n",
       "    }\n",
       "\n",
       "    .dataframe tbody tr th {\n",
       "        vertical-align: top;\n",
       "    }\n",
       "\n",
       "    .dataframe thead th {\n",
       "        text-align: right;\n",
       "    }\n",
       "</style>\n",
       "<table border=\"1\" class=\"dataframe\">\n",
       "  <thead>\n",
       "    <tr style=\"text-align: right;\">\n",
       "      <th></th>\n",
       "      <th>review_score</th>\n",
       "      <th>num_reviews</th>\n",
       "    </tr>\n",
       "  </thead>\n",
       "  <tbody>\n",
       "    <tr>\n",
       "      <th>0</th>\n",
       "      <td>100.0</td>\n",
       "      <td>47</td>\n",
       "    </tr>\n",
       "    <tr>\n",
       "      <th>4</th>\n",
       "      <td>95.0</td>\n",
       "      <td>9</td>\n",
       "    </tr>\n",
       "    <tr>\n",
       "      <th>12</th>\n",
       "      <td>94.0</td>\n",
       "      <td>1</td>\n",
       "    </tr>\n",
       "    <tr>\n",
       "      <th>15</th>\n",
       "      <td>92.0</td>\n",
       "      <td>1</td>\n",
       "    </tr>\n",
       "    <tr>\n",
       "      <th>3</th>\n",
       "      <td>90.0</td>\n",
       "      <td>9</td>\n",
       "    </tr>\n",
       "    <tr>\n",
       "      <th>6</th>\n",
       "      <td>88.0</td>\n",
       "      <td>4</td>\n",
       "    </tr>\n",
       "    <tr>\n",
       "      <th>1</th>\n",
       "      <td>87.5</td>\n",
       "      <td>11</td>\n",
       "    </tr>\n",
       "    <tr>\n",
       "      <th>11</th>\n",
       "      <td>85.0</td>\n",
       "      <td>1</td>\n",
       "    </tr>\n",
       "    <tr>\n",
       "      <th>2</th>\n",
       "      <td>80.0</td>\n",
       "      <td>11</td>\n",
       "    </tr>\n",
       "    <tr>\n",
       "      <th>5</th>\n",
       "      <td>75.0</td>\n",
       "      <td>7</td>\n",
       "    </tr>\n",
       "    <tr>\n",
       "      <th>14</th>\n",
       "      <td>73.0</td>\n",
       "      <td>1</td>\n",
       "    </tr>\n",
       "    <tr>\n",
       "      <th>10</th>\n",
       "      <td>70.0</td>\n",
       "      <td>2</td>\n",
       "    </tr>\n",
       "    <tr>\n",
       "      <th>9</th>\n",
       "      <td>62.5</td>\n",
       "      <td>3</td>\n",
       "    </tr>\n",
       "    <tr>\n",
       "      <th>8</th>\n",
       "      <td>60.0</td>\n",
       "      <td>3</td>\n",
       "    </tr>\n",
       "    <tr>\n",
       "      <th>7</th>\n",
       "      <td>50.0</td>\n",
       "      <td>4</td>\n",
       "    </tr>\n",
       "    <tr>\n",
       "      <th>13</th>\n",
       "      <td>40.0</td>\n",
       "      <td>1</td>\n",
       "    </tr>\n",
       "    <tr>\n",
       "      <th>16</th>\n",
       "      <td>25.0</td>\n",
       "      <td>1</td>\n",
       "    </tr>\n",
       "  </tbody>\n",
       "</table>\n",
       "</div>"
      ],
      "text/plain": [
       "    review_score  num_reviews\n",
       "0          100.0           47\n",
       "4           95.0            9\n",
       "12          94.0            1\n",
       "15          92.0            1\n",
       "3           90.0            9\n",
       "6           88.0            4\n",
       "1           87.5           11\n",
       "11          85.0            1\n",
       "2           80.0           11\n",
       "5           75.0            7\n",
       "14          73.0            1\n",
       "10          70.0            2\n",
       "9           62.5            3\n",
       "8           60.0            3\n",
       "7           50.0            4\n",
       "13          40.0            1\n",
       "16          25.0            1"
      ]
     },
     "execution_count": 6,
     "metadata": {},
     "output_type": "execute_result"
    }
   ],
   "source": [
    "value_counts = data.loc[(data['movie_title']=='American Beauty'), 'review_score'].value_counts().reset_index()\n",
    "value_counts.columns = ['review_score', 'num_reviews']\n",
    "value_counts = value_counts.sort_values('review_score', ascending=False)\n",
    "value_counts"
   ]
  },
  {
   "cell_type": "code",
   "execution_count": 7,
   "id": "2daa08f9",
   "metadata": {},
   "outputs": [
    {
     "data": {
      "image/png": "[encoded data removed]",
      "text/plain": [
       "<Figure size 432x288 with 1 Axes>"
      ]
     },
     "metadata": {
      "needs_background": "light"
     },
     "output_type": "display_data"
    }
   ],
   "source": [
    "from pandas.plotting import table \n",
    "\n",
    "ax = plt.subplot(111, frame_on=False) # no visible frame\n",
    "ax.xaxis.set_visible(False) # hide the x axis\n",
    "ax.yaxis.set_visible(False) # hide the y axis\n",
    "\n",
    "table(ax, value_counts, loc='center') \n",
    "\n",
    "plt.savefig('../images/american_beauty_scores.png')"
   ]
  },
  {
   "cell_type": "markdown",
   "id": "ecce6489",
   "metadata": {},
   "source": [
    "It looks like just a few critics gave American Beauty a score below 50.\n",
    "Maybe we would do better here if we averaged the rotten tomatoes score? "
   ]
  },
  {
   "cell_type": "code",
   "execution_count": 8,
   "id": "aade4dc4",
   "metadata": {},
   "outputs": [
    {
     "data": {
      "text/html": [
       "<div>\n",
       "<style scoped>\n",
       "    .dataframe tbody tr th:only-of-type {\n",
       "        vertical-align: middle;\n",
       "    }\n",
       "\n",
       "    .dataframe tbody tr th {\n",
       "        vertical-align: top;\n",
       "    }\n",
       "\n",
       "    .dataframe thead th {\n",
       "        text-align: right;\n",
       "    }\n",
       "</style>\n",
       "<table border=\"1\" class=\"dataframe\">\n",
       "  <thead>\n",
       "    <tr style=\"text-align: right;\">\n",
       "      <th></th>\n",
       "      <th>year_film</th>\n",
       "      <th>movie_title</th>\n",
       "      <th>winner</th>\n",
       "      <th>review_score</th>\n",
       "    </tr>\n",
       "  </thead>\n",
       "  <tbody>\n",
       "    <tr>\n",
       "      <th>0</th>\n",
       "      <td>1927</td>\n",
       "      <td>The Racket</td>\n",
       "      <td>False</td>\n",
       "      <td>72.750000</td>\n",
       "    </tr>\n",
       "    <tr>\n",
       "      <th>1</th>\n",
       "      <td>1927</td>\n",
       "      <td>Wings</td>\n",
       "      <td>True</td>\n",
       "      <td>76.616667</td>\n",
       "    </tr>\n",
       "    <tr>\n",
       "      <th>2</th>\n",
       "      <td>1928</td>\n",
       "      <td>In Old Arizona</td>\n",
       "      <td>False</td>\n",
       "      <td>66.250000</td>\n",
       "    </tr>\n",
       "    <tr>\n",
       "      <th>3</th>\n",
       "      <td>1928</td>\n",
       "      <td>The Broadway Melody</td>\n",
       "      <td>True</td>\n",
       "      <td>54.892857</td>\n",
       "    </tr>\n",
       "    <tr>\n",
       "      <th>4</th>\n",
       "      <td>1928</td>\n",
       "      <td>The Patriot</td>\n",
       "      <td>False</td>\n",
       "      <td>68.560976</td>\n",
       "    </tr>\n",
       "  </tbody>\n",
       "</table>\n",
       "</div>"
      ],
      "text/plain": [
       "   year_film          movie_title  winner  review_score\n",
       "0       1927           The Racket   False     72.750000\n",
       "1       1927                Wings    True     76.616667\n",
       "2       1928       In Old Arizona   False     66.250000\n",
       "3       1928  The Broadway Melody    True     54.892857\n",
       "4       1928          The Patriot   False     68.560976"
      ]
     },
     "execution_count": 8,
     "metadata": {},
     "output_type": "execute_result"
    }
   ],
   "source": [
    "data = data.groupby(['year_film', 'movie_title', 'winner'])['review_score'].mean().reset_index()\n",
    "data.head()"
   ]
  },
  {
   "cell_type": "code",
   "execution_count": 9,
   "id": "7aa6ff23",
   "metadata": {},
   "outputs": [
    {
     "data": {
      "image/png": "[encoded data removed]",
      "text/plain": [
       "<Figure size 432x288 with 1 Axes>"
      ]
     },
     "metadata": {
      "needs_background": "light"
     },
     "output_type": "display_data"
    }
   ],
   "source": [
    "plot_binned_data(data, outfile='../images/ratings_bins_average.png')"
   ]
  },
  {
   "cell_type": "markdown",
   "id": "5e1a87f7",
   "metadata": {},
   "source": [
    "## Run model"
   ]
  },
  {
   "cell_type": "code",
   "execution_count": 10,
   "id": "e11d9716",
   "metadata": {},
   "outputs": [],
   "source": [
    "y = data['winner'].astype(int)"
   ]
  },
  {
   "cell_type": "code",
   "execution_count": 11,
   "id": "639e9a80",
   "metadata": {},
   "outputs": [],
   "source": [
    "model = RegressionAnalysis(data[['review_score']], y, is_categorical=True)\n",
    "model.set_X_cols(['review_score'])\n",
    "model.fit_train()"
   ]
  },
  {
   "cell_type": "code",
   "execution_count": 12,
   "id": "6cb5803a",
   "metadata": {},
   "outputs": [
    {
     "data": {
      "text/plain": [
       "array([[0.02779508]])"
      ]
     },
     "execution_count": 12,
     "metadata": {},
     "output_type": "execute_result"
    }
   ],
   "source": [
    "model.model_.coef_"
   ]
  },
  {
   "cell_type": "code",
   "execution_count": 13,
   "id": "12f46c3b",
   "metadata": {},
   "outputs": [
    {
     "data": {
      "text/plain": [
       "array([0, 0, 0, 0, 0, 0, 0, 0, 0, 0, 0, 0, 0, 0, 0, 0, 0, 0, 0, 0, 0, 0,\n",
       "       0, 0, 0, 0, 0, 0, 0, 0, 0, 0, 0, 0, 0, 0, 0, 0, 0, 0, 0, 0, 0, 0,\n",
       "       0, 0, 0, 0, 0, 0, 0, 0, 0, 0, 0, 0, 0, 0, 0, 0, 0, 0, 0, 0, 0, 0,\n",
       "       0, 0, 0, 0, 0, 0, 0, 0, 0, 0, 0, 0, 0, 0, 0, 0, 0, 0, 0, 0, 0, 0,\n",
       "       0, 0, 0, 0, 0, 0, 0, 0, 0, 0, 0, 0, 0, 0])"
      ]
     },
     "execution_count": 13,
     "metadata": {},
     "output_type": "execute_result"
    }
   ],
   "source": [
    "model.predict_test()"
   ]
  },
  {
   "cell_type": "markdown",
   "id": "e79d3ac5",
   "metadata": {},
   "source": [
    "Why is this only predicting losses? "
   ]
  },
  {
   "cell_type": "code",
   "execution_count": 14,
   "id": "4d4719f7",
   "metadata": {},
   "outputs": [
    {
     "data": {
      "text/html": [
       "<div>\n",
       "<style scoped>\n",
       "    .dataframe tbody tr th:only-of-type {\n",
       "        vertical-align: middle;\n",
       "    }\n",
       "\n",
       "    .dataframe tbody tr th {\n",
       "        vertical-align: top;\n",
       "    }\n",
       "\n",
       "    .dataframe thead th {\n",
       "        text-align: right;\n",
       "    }\n",
       "</style>\n",
       "<table border=\"1\" class=\"dataframe\">\n",
       "  <thead>\n",
       "    <tr style=\"text-align: right;\">\n",
       "      <th></th>\n",
       "      <th>year_film</th>\n",
       "      <th>movie_title</th>\n",
       "      <th>winner</th>\n",
       "      <th>review_score</th>\n",
       "      <th>bin</th>\n",
       "    </tr>\n",
       "  </thead>\n",
       "  <tbody>\n",
       "    <tr>\n",
       "      <th>0</th>\n",
       "      <td>1927</td>\n",
       "      <td>The Racket</td>\n",
       "      <td>False</td>\n",
       "      <td>72.750000</td>\n",
       "      <td>60-80</td>\n",
       "    </tr>\n",
       "    <tr>\n",
       "      <th>1</th>\n",
       "      <td>1927</td>\n",
       "      <td>Wings</td>\n",
       "      <td>True</td>\n",
       "      <td>76.616667</td>\n",
       "      <td>60-80</td>\n",
       "    </tr>\n",
       "    <tr>\n",
       "      <th>2</th>\n",
       "      <td>1928</td>\n",
       "      <td>In Old Arizona</td>\n",
       "      <td>False</td>\n",
       "      <td>66.250000</td>\n",
       "      <td>60-80</td>\n",
       "    </tr>\n",
       "    <tr>\n",
       "      <th>3</th>\n",
       "      <td>1928</td>\n",
       "      <td>The Broadway Melody</td>\n",
       "      <td>True</td>\n",
       "      <td>54.892857</td>\n",
       "      <td>40-60</td>\n",
       "    </tr>\n",
       "    <tr>\n",
       "      <th>4</th>\n",
       "      <td>1928</td>\n",
       "      <td>The Patriot</td>\n",
       "      <td>False</td>\n",
       "      <td>68.560976</td>\n",
       "      <td>60-80</td>\n",
       "    </tr>\n",
       "  </tbody>\n",
       "</table>\n",
       "</div>"
      ],
      "text/plain": [
       "   year_film          movie_title  winner  review_score    bin\n",
       "0       1927           The Racket   False     72.750000  60-80\n",
       "1       1927                Wings    True     76.616667  60-80\n",
       "2       1928       In Old Arizona   False     66.250000  60-80\n",
       "3       1928  The Broadway Melody    True     54.892857  40-60\n",
       "4       1928          The Patriot   False     68.560976  60-80"
      ]
     },
     "execution_count": 14,
     "metadata": {},
     "output_type": "execute_result"
    }
   ],
   "source": [
    "data.head()"
   ]
  },
  {
   "cell_type": "code",
   "execution_count": 15,
   "id": "06415450",
   "metadata": {},
   "outputs": [
    {
     "data": {
      "text/plain": [
       "0    0\n",
       "1    1\n",
       "2    0\n",
       "3    1\n",
       "4    0\n",
       "Name: winner, dtype: int64"
      ]
     },
     "execution_count": 15,
     "metadata": {},
     "output_type": "execute_result"
    }
   ],
   "source": [
    "y[0:5]"
   ]
  },
  {
   "cell_type": "code",
   "execution_count": 16,
   "id": "9a6e7f56",
   "metadata": {},
   "outputs": [
    {
     "data": {
      "text/plain": [
       "False    331\n",
       "True      75\n",
       "Name: winner, dtype: int64"
      ]
     },
     "execution_count": 16,
     "metadata": {},
     "output_type": "execute_result"
    }
   ],
   "source": [
    "data.winner.value_counts()"
   ]
  },
  {
   "cell_type": "markdown",
   "id": "c546effd",
   "metadata": {},
   "source": [
    "## Try setting the class weight parameter to \"balanced\". This should give a higher penalty for predicting a loss incorrectly. "
   ]
  },
  {
   "cell_type": "code",
   "execution_count": 17,
   "id": "0372ae71",
   "metadata": {},
   "outputs": [],
   "source": [
    "model = RegressionAnalysis(data[['review_score']], y, is_categorical=True, class_weights='balanced')\n",
    "model.set_X_cols(['review_score'])\n",
    "model.fit_train()"
   ]
  },
  {
   "cell_type": "code",
   "execution_count": 18,
   "id": "91814081",
   "metadata": {},
   "outputs": [
    {
     "data": {
      "text/plain": [
       "array([[0.02087762]])"
      ]
     },
     "execution_count": 18,
     "metadata": {},
     "output_type": "execute_result"
    }
   ],
   "source": [
    "model.model_.coef_"
   ]
  },
  {
   "cell_type": "code",
   "execution_count": 19,
   "id": "3bdd4a0d",
   "metadata": {},
   "outputs": [
    {
     "data": {
      "text/plain": [
       "array([1, 0, 1, 0, 1, 1, 0, 0, 1, 1, 1, 1, 0, 0, 0, 1, 0, 1, 1, 1, 1, 0,\n",
       "       0, 0, 1, 1, 0, 1, 0, 0, 1, 0, 0, 1, 0, 1, 0, 1, 0, 0, 0, 1, 0, 1,\n",
       "       1, 1, 0, 1, 1, 1, 1, 1, 0, 1, 1, 0, 1, 0, 1, 0, 1, 0, 1, 1, 1, 0,\n",
       "       1, 0, 1, 0, 1, 0, 0, 0, 1, 1, 0, 1, 1, 1, 0, 0, 1, 1, 1, 0, 1, 0,\n",
       "       1, 0, 0, 1, 1, 0, 1, 0, 0, 1, 1, 1, 1, 0])"
      ]
     },
     "execution_count": 19,
     "metadata": {},
     "output_type": "execute_result"
    }
   ],
   "source": [
    "model.predict_test()"
   ]
  },
  {
   "cell_type": "code",
   "execution_count": 20,
   "id": "800a2be4",
   "metadata": {},
   "outputs": [
    {
     "data": {
      "text/plain": [
       "array([[0.02107082]])"
      ]
     },
     "execution_count": 20,
     "metadata": {},
     "output_type": "execute_result"
    }
   ],
   "source": [
    "# Okay, this is too strong!\n",
    "# Let's try some custom dictionaries of weights. \n",
    "weights = {1: 4, 0: 1} # Give a win a weight of 4, versus a weight of 1 for a loss. \n",
    "model = RegressionAnalysis(data[['review_score']], y, is_categorical=True, class_weights=weights)\n",
    "model.set_X_cols(['review_score'])\n",
    "model.fit_train()\n",
    "\n",
    "model.model_.coef_"
   ]
  },
  {
   "cell_type": "code",
   "execution_count": 21,
   "id": "0b8f56d5",
   "metadata": {},
   "outputs": [
    {
     "data": {
      "text/plain": [
       "array([1, 0, 1, 0, 1, 1, 0, 0, 0, 1, 1, 1, 0, 0, 0, 1, 0, 1, 1, 1, 1, 0,\n",
       "       0, 0, 1, 0, 0, 1, 0, 0, 1, 0, 0, 1, 0, 1, 0, 0, 0, 0, 0, 1, 0, 1,\n",
       "       1, 1, 0, 1, 1, 1, 1, 0, 0, 1, 0, 0, 1, 0, 1, 0, 1, 0, 1, 1, 1, 0,\n",
       "       1, 0, 0, 0, 0, 0, 0, 0, 1, 1, 0, 1, 1, 1, 0, 0, 1, 1, 1, 0, 1, 0,\n",
       "       1, 0, 0, 0, 1, 0, 1, 0, 0, 1, 1, 1, 1, 0])"
      ]
     },
     "execution_count": 21,
     "metadata": {},
     "output_type": "execute_result"
    }
   ],
   "source": [
    "model.predict_test()"
   ]
  },
  {
   "cell_type": "code",
   "execution_count": 22,
   "id": "0a06fdac",
   "metadata": {},
   "outputs": [
    {
     "data": {
      "text/plain": [
       "array([0, 0, 0, 0, 0, 0, 0, 0, 0, 0, 0, 0, 0, 0, 0, 0, 0, 0, 0, 0, 0, 0,\n",
       "       0, 0, 0, 0, 0, 0, 0, 0, 0, 0, 0, 0, 0, 0, 0, 0, 0, 0, 0, 0, 0, 0,\n",
       "       0, 0, 0, 0, 0, 0, 0, 0, 0, 0, 0, 0, 0, 0, 0, 0, 0, 0, 0, 0, 0, 0,\n",
       "       0, 0, 0, 0, 0, 0, 0, 0, 0, 0, 0, 0, 0, 0, 0, 0, 0, 0, 0, 0, 0, 0,\n",
       "       0, 0, 0, 0, 0, 0, 0, 0, 0, 0, 0, 0, 0, 0])"
      ]
     },
     "execution_count": 22,
     "metadata": {},
     "output_type": "execute_result"
    }
   ],
   "source": [
    "weights = {1: 2, 0: 1} # A weight of 4 is too strong - try a weight of 2.\n",
    "model = RegressionAnalysis(data[['review_score']], y, is_categorical=True, class_weights=weights)\n",
    "model.set_X_cols(['review_score'])\n",
    "model.fit_train()\n",
    "\n",
    "model.predict_test()"
   ]
  },
  {
   "cell_type": "code",
   "execution_count": 23,
   "id": "5483d8bb",
   "metadata": {},
   "outputs": [
    {
     "data": {
      "text/plain": [
       "array([2. , 2.1, 2.2, 2.3, 2.4, 2.5, 2.6, 2.7, 2.8, 2.9, 3. , 3.1, 3.2,\n",
       "       3.3, 3.4, 3.5, 3.6, 3.7, 3.8, 3.9])"
      ]
     },
     "execution_count": 23,
     "metadata": {},
     "output_type": "execute_result"
    }
   ],
   "source": [
    "# A weight of 2 is too light. \n",
    "# Write an algorithm to find the best weight for a win in .10 increments between 2 and 4.\n",
    "weights_to_test = np.arange(2, 4, .10)\n",
    "weights_to_test"
   ]
  },
  {
   "cell_type": "code",
   "execution_count": 24,
   "id": "409bd95f",
   "metadata": {},
   "outputs": [],
   "source": [
    "# Our scoring algorithm will be: \n",
    "# 1. You must predict at least one win for all input data \n",
    "# 2. Take the model with the highest accuracy. \n",
    "results = {}\n",
    "for weight in weights_to_test:\n",
    "    weights = {1: weight, 0: 1} # 'Loss' class always stays at 1\n",
    "    model = RegressionAnalysis(data[['review_score']], y, is_categorical=True, class_weights=weights)\n",
    "    model.set_X_cols(['review_score'])\n",
    "    model.fit_train()\n",
    "    \n",
    "    preds = model.predict_test()\n",
    "    \n",
    "    results[weight] = {\n",
    "        'any_win': any(preds > 0),\n",
    "        'accuracy': model.score_test()\n",
    "    }"
   ]
  },
  {
   "cell_type": "code",
   "execution_count": 25,
   "id": "b9c1bb50",
   "metadata": {},
   "outputs": [
    {
     "data": {
      "text/plain": [
       "{2.0: {'any_win': False, 'accuracy': 0.8431372549019608},\n",
       " 2.1: {'any_win': False, 'accuracy': 0.8431372549019608},\n",
       " 2.2: {'any_win': False, 'accuracy': 0.8431372549019608},\n",
       " 2.3000000000000003: {'any_win': False, 'accuracy': 0.8431372549019608},\n",
       " 2.4000000000000004: {'any_win': False, 'accuracy': 0.8431372549019608},\n",
       " 2.5000000000000004: {'any_win': False, 'accuracy': 0.8431372549019608},\n",
       " 2.6000000000000005: {'any_win': False, 'accuracy': 0.8431372549019608},\n",
       " 2.7000000000000006: {'any_win': False, 'accuracy': 0.8431372549019608},\n",
       " 2.8000000000000007: {'any_win': True, 'accuracy': 0.8333333333333334},\n",
       " 2.900000000000001: {'any_win': True, 'accuracy': 0.8431372549019608},\n",
       " 3.000000000000001: {'any_win': True, 'accuracy': 0.8333333333333334},\n",
       " 3.100000000000001: {'any_win': True, 'accuracy': 0.8137254901960784},\n",
       " 3.200000000000001: {'any_win': True, 'accuracy': 0.803921568627451},\n",
       " 3.300000000000001: {'any_win': True, 'accuracy': 0.803921568627451},\n",
       " 3.4000000000000012: {'any_win': True, 'accuracy': 0.7941176470588235},\n",
       " 3.5000000000000013: {'any_win': True, 'accuracy': 0.7843137254901961},\n",
       " 3.6000000000000014: {'any_win': True, 'accuracy': 0.7549019607843137},\n",
       " 3.7000000000000015: {'any_win': True, 'accuracy': 0.7058823529411765},\n",
       " 3.8000000000000016: {'any_win': True, 'accuracy': 0.6666666666666666},\n",
       " 3.9000000000000017: {'any_win': True, 'accuracy': 0.5882352941176471}}"
      ]
     },
     "execution_count": 25,
     "metadata": {},
     "output_type": "execute_result"
    }
   ],
   "source": [
    "results"
   ]
  },
  {
   "cell_type": "markdown",
   "id": "6403c218",
   "metadata": {},
   "source": [
    "This is interesting. Find the value where at least one win is predicted, and compare it to when no wins are predicted. "
   ]
  },
  {
   "cell_type": "code",
   "execution_count": 26,
   "id": "9e226656",
   "metadata": {},
   "outputs": [
    {
     "name": "stdout",
     "output_type": "stream",
     "text": [
      "Found crossover value 2.8000000000000007!\n"
     ]
    }
   ],
   "source": [
    "crossover_value = 0\n",
    "for k, v in results.items():\n",
    "    if v['any_win'] == True:\n",
    "        crossover_value = k\n",
    "        break\n",
    "print(f\"Found crossover value {crossover_value}!\")"
   ]
  },
  {
   "cell_type": "code",
   "execution_count": 27,
   "id": "f23e60e7",
   "metadata": {},
   "outputs": [],
   "source": [
    "weights = {1: crossover_value, 0: 1} # 'Loss' class always stays at 1\n",
    "any_win_model = RegressionAnalysis(data[['review_score']], y, is_categorical=True, class_weights=weights)\n",
    "any_win_model.set_X_cols(['review_score'])\n",
    "any_win_model.fit_train()\n",
    "\n",
    "any_win_accuracy = any_win_model.score_test()"
   ]
  },
  {
   "cell_type": "code",
   "execution_count": 28,
   "id": "0a10da3b",
   "metadata": {},
   "outputs": [],
   "source": [
    "weights = {1: 1, 0: 1} # 'Loss' class always stays at 1\n",
    "no_win_model = RegressionAnalysis(data[['review_score']], y, is_categorical=True, class_weights=weights)\n",
    "no_win_model.set_X_cols(['review_score'])\n",
    "no_win_model.fit_train()\n",
    "\n",
    "preds = no_win_model.predict_test()\n",
    "\n",
    "assert all(preds ==0)\n",
    "no_win_accuracy_score = no_win_model.score_test()"
   ]
  },
  {
   "cell_type": "code",
   "execution_count": 29,
   "id": "b00bae08",
   "metadata": {},
   "outputs": [
    {
     "name": "stdout",
     "output_type": "stream",
     "text": [
      "Any win model has accuracy of 0.83333 and a regression coefficient of [[0.02294634]], while no-win model has accuracy of 0.84314 and a coefficient of [[0.02779508]].\n"
     ]
    }
   ],
   "source": [
    "print(f\"Any win model has accuracy of {round(any_win_accuracy, 5)} \"\n",
    "      f\"and a regression coefficient of {any_win_model.model_.coef_}, \"\n",
    "      f\"while no-win model has accuracy of {round(no_win_accuracy_score, 5)} and \"\n",
    "     f\"a coefficient of {no_win_model.model_.coef_}.\")"
   ]
  },
  {
   "cell_type": "markdown",
   "id": "b291b7a0",
   "metadata": {},
   "source": [
    "This tells us that rotten tomatoes score is not a very good predictor of a best picture Oscars win, and that no matter how you tune the logistic regression you will always get better accuracy by predicting all losses. "
   ]
  }
 ],
 "metadata": {
  "kernelspec": {
   "display_name": "Python 3 (ipykernel)",
   "language": "python",
   "name": "python3"
  },
  "language_info": {
   "codemirror_mode": {
    "name": "ipython",
    "version": 3
   },
   "file_extension": ".py",
   "mimetype": "text/x-python",
   "name": "python",
   "nbconvert_exporter": "python",
   "pygments_lexer": "ipython3",
   "version": "3.10.9"
  },
  "vscode": {
   "interpreter": {
    "hash": "49786a481468556fee9ecbfb93f3ed8874cf2f90fcd59d628297d5c6b4c58844"
   }
  }
 },
 "nbformat": 4,
 "nbformat_minor": 5
}
