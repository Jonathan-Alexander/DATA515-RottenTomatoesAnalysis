{
 "cells": [
  {
   "cell_type": "markdown",
   "id": "ea55f2ed",
   "metadata": {},
   "source": [
    "<h1><center>Regression 1</center></h1>\n",
    "<center>How well does Rotten Tomatoes score predict \"best picture\" at the Oscars?</center>"
   ]
  },
  {
   "cell_type": "code",
   "execution_count": 1,
   "id": "daffda7e",
   "metadata": {},
   "outputs": [],
   "source": [
    "import numpy as np\n",
    "import pandas as pd\n",
    "import os\n",
    "\n",
    "from sklearn.linear_model import LogisticRegression\n",
    "from sklearn.metrics import confusion_matrix, ConfusionMatrixDisplay, accuracy_score"
   ]
  },
  {
   "cell_type": "markdown",
   "id": "dbef3ca7",
   "metadata": {},
   "source": [
    "## Prepare data"
   ]
  },
  {
   "cell_type": "code",
   "execution_count": 2,
   "id": "d1858f18",
   "metadata": {},
   "outputs": [
    {
     "name": "stderr",
     "output_type": "stream",
     "text": [
      "/tmp/ipykernel_2428/377777630.py:1: DtypeWarning: Columns (14) have mixed types. Specify dtype option on import or set low_memory=False.\n",
      "  data = pd.read_csv('../data/full_data.csv')\n"
     ]
    }
   ],
   "source": [
    "data = pd.read_csv('../data/best_picture_data.csv')"
   ]
  },
  {
   "cell_type": "code",
   "execution_count": 3,
   "id": "b4685766",
   "metadata": {},
   "outputs": [
    {
     "data": {
      "text/html": [
       "<div>\n",
       "<style scoped>\n",
       "    .dataframe tbody tr th:only-of-type {\n",
       "        vertical-align: middle;\n",
       "    }\n",
       "\n",
       "    .dataframe tbody tr th {\n",
       "        vertical-align: top;\n",
       "    }\n",
       "\n",
       "    .dataframe thead th {\n",
       "        text-align: right;\n",
       "    }\n",
       "</style>\n",
       "<table border=\"1\" class=\"dataframe\">\n",
       "  <thead>\n",
       "    <tr style=\"text-align: right;\">\n",
       "      <th></th>\n",
       "      <th>Unnamed: 0</th>\n",
       "      <th>rotten_tomatoes_link</th>\n",
       "      <th>critic_name</th>\n",
       "      <th>top_critic</th>\n",
       "      <th>review_type</th>\n",
       "      <th>review_score</th>\n",
       "      <th>movie_title</th>\n",
       "      <th>tomatometer_rating</th>\n",
       "      <th>audience_rating</th>\n",
       "      <th>year_film</th>\n",
       "      <th>year_ceremony</th>\n",
       "      <th>ceremony</th>\n",
       "      <th>category</th>\n",
       "      <th>name</th>\n",
       "      <th>winner</th>\n",
       "    </tr>\n",
       "  </thead>\n",
       "  <tbody>\n",
       "    <tr>\n",
       "      <th>0</th>\n",
       "      <td>0</td>\n",
       "      <td>m/10</td>\n",
       "      <td>Scott Weinberg</td>\n",
       "      <td>False</td>\n",
       "      <td>Fresh</td>\n",
       "      <td>80.0</td>\n",
       "      <td>10</td>\n",
       "      <td>67.0</td>\n",
       "      <td>53.0</td>\n",
       "      <td>1979</td>\n",
       "      <td>1980</td>\n",
       "      <td>52</td>\n",
       "      <td>MUSIC (Original Score)</td>\n",
       "      <td>Henry Mancini</td>\n",
       "      <td>False</td>\n",
       "    </tr>\n",
       "    <tr>\n",
       "      <th>1</th>\n",
       "      <td>1</td>\n",
       "      <td>m/10</td>\n",
       "      <td>Scott Weinberg</td>\n",
       "      <td>False</td>\n",
       "      <td>Fresh</td>\n",
       "      <td>80.0</td>\n",
       "      <td>10</td>\n",
       "      <td>67.0</td>\n",
       "      <td>53.0</td>\n",
       "      <td>1979</td>\n",
       "      <td>1980</td>\n",
       "      <td>52</td>\n",
       "      <td>MUSIC (Original Song)</td>\n",
       "      <td>Music by Henry Mancini; Lyric by Robert Wells</td>\n",
       "      <td>False</td>\n",
       "    </tr>\n",
       "    <tr>\n",
       "      <th>2</th>\n",
       "      <td>2</td>\n",
       "      <td>m/10</td>\n",
       "      <td>Bob Grimm</td>\n",
       "      <td>False</td>\n",
       "      <td>Fresh</td>\n",
       "      <td>60.0</td>\n",
       "      <td>10</td>\n",
       "      <td>67.0</td>\n",
       "      <td>53.0</td>\n",
       "      <td>1979</td>\n",
       "      <td>1980</td>\n",
       "      <td>52</td>\n",
       "      <td>MUSIC (Original Score)</td>\n",
       "      <td>Henry Mancini</td>\n",
       "      <td>False</td>\n",
       "    </tr>\n",
       "    <tr>\n",
       "      <th>3</th>\n",
       "      <td>3</td>\n",
       "      <td>m/10</td>\n",
       "      <td>Bob Grimm</td>\n",
       "      <td>False</td>\n",
       "      <td>Fresh</td>\n",
       "      <td>60.0</td>\n",
       "      <td>10</td>\n",
       "      <td>67.0</td>\n",
       "      <td>53.0</td>\n",
       "      <td>1979</td>\n",
       "      <td>1980</td>\n",
       "      <td>52</td>\n",
       "      <td>MUSIC (Original Song)</td>\n",
       "      <td>Music by Henry Mancini; Lyric by Robert Wells</td>\n",
       "      <td>False</td>\n",
       "    </tr>\n",
       "    <tr>\n",
       "      <th>4</th>\n",
       "      <td>4</td>\n",
       "      <td>m/10</td>\n",
       "      <td>Philip Martin</td>\n",
       "      <td>False</td>\n",
       "      <td>Fresh</td>\n",
       "      <td>60.0</td>\n",
       "      <td>10</td>\n",
       "      <td>67.0</td>\n",
       "      <td>53.0</td>\n",
       "      <td>1979</td>\n",
       "      <td>1980</td>\n",
       "      <td>52</td>\n",
       "      <td>MUSIC (Original Score)</td>\n",
       "      <td>Henry Mancini</td>\n",
       "      <td>False</td>\n",
       "    </tr>\n",
       "  </tbody>\n",
       "</table>\n",
       "</div>"
      ],
      "text/plain": [
       "   Unnamed: 0 rotten_tomatoes_link     critic_name  top_critic review_type  \\\n",
       "0           0                 m/10  Scott Weinberg       False       Fresh   \n",
       "1           1                 m/10  Scott Weinberg       False       Fresh   \n",
       "2           2                 m/10       Bob Grimm       False       Fresh   \n",
       "3           3                 m/10       Bob Grimm       False       Fresh   \n",
       "4           4                 m/10   Philip Martin       False       Fresh   \n",
       "\n",
       "   review_score movie_title  tomatometer_rating  audience_rating  year_film  \\\n",
       "0          80.0          10                67.0             53.0       1979   \n",
       "1          80.0          10                67.0             53.0       1979   \n",
       "2          60.0          10                67.0             53.0       1979   \n",
       "3          60.0          10                67.0             53.0       1979   \n",
       "4          60.0          10                67.0             53.0       1979   \n",
       "\n",
       "   year_ceremony  ceremony                category  \\\n",
       "0           1980        52  MUSIC (Original Score)   \n",
       "1           1980        52   MUSIC (Original Song)   \n",
       "2           1980        52  MUSIC (Original Score)   \n",
       "3           1980        52   MUSIC (Original Song)   \n",
       "4           1980        52  MUSIC (Original Score)   \n",
       "\n",
       "                                            name winner  \n",
       "0                                  Henry Mancini  False  \n",
       "1  Music by Henry Mancini; Lyric by Robert Wells  False  \n",
       "2                                  Henry Mancini  False  \n",
       "3  Music by Henry Mancini; Lyric by Robert Wells  False  \n",
       "4                                  Henry Mancini  False  "
      ]
     },
     "execution_count": 3,
     "metadata": {},
     "output_type": "execute_result"
    }
   ],
   "source": [
    "data.head()"
   ]
  },
  {
   "cell_type": "code",
   "execution_count": 4,
   "id": "2513f4a0",
   "metadata": {},
   "outputs": [
    {
     "data": {
      "text/plain": [
       "array(['MUSIC (Original Score)', 'MUSIC (Original Song)', 'SOUND MIXING',\n",
       "       'ACTRESS IN A LEADING ROLE', 'WRITING (Story and Screenplay)',\n",
       "       'ART DIRECTION',\n",
       "       'MUSIC (Music Score of a Dramatic or Comedy Picture)',\n",
       "       'ART DIRECTION (Black-and-White)', 'SPECIAL EFFECTS',\n",
       "       'FILM EDITING', 'OUTSTANDING PRODUCTION',\n",
       "       'ACTRESS IN A SUPPORTING ROLE', 'CINEMATOGRAPHY',\n",
       "       'DOCUMENTARY (Feature)', 'WRITING (Motion Picture Story)',\n",
       "       'ACTOR IN A SUPPORTING ROLE', 'CINEMATOGRAPHY (Color)',\n",
       "       'MUSIC (Song)', 'BEST MOTION PICTURE', 'SOUND', 'ACTOR',\n",
       "       'BEST PICTURE',\n",
       "       'WRITING (Screenplay--based on material from another medium)',\n",
       "       'DIRECTING', 'WRITING (Adapted Screenplay)',\n",
       "       'SOUND EFFECTS EDITING', 'VISUAL EFFECTS', 'WRITING',\n",
       "       'Cinematography', 'International Feature Film',\n",
       "       'Makeup and Hairstyling', 'Music (Original Score)', 'Best Picture',\n",
       "       'Production Design', 'Sound', 'Visual Effects',\n",
       "       'Writing (Adapted Screenplay)', 'WRITING (Screenplay)',\n",
       "       'ASSISTANT DIRECTOR', 'MUSIC (Scoring)', 'SOUND RECORDING',\n",
       "       'SHORT FILM (Live Action)', 'ACTOR IN A LEADING ROLE',\n",
       "       'SHORT SUBJECT (Cartoon)', 'PRODUCTION DESIGN',\n",
       "       'WRITING (Screenplay Written Directly for the Screen)',\n",
       "       'COSTUME DESIGN', 'WRITING (Original Screenplay)', 'ACTRESS',\n",
       "       'CINEMATOGRAPHY (Black-and-White)',\n",
       "       'WRITING (Story and Screenplay--written directly for the screen)',\n",
       "       'ART DIRECTION (Color)', 'COSTUME DESIGN (Color)',\n",
       "       'WRITING (Screenplay--Adapted)', 'ANIMATED FEATURE FILM',\n",
       "       'DOCUMENTARY (Short Subject)',\n",
       "       'MUSIC (Scoring of a Musical Picture)',\n",
       "       'COSTUME DESIGN (Black-and-White)',\n",
       "       'MUSIC (Original Score--for a motion picture [not a musical])',\n",
       "       'MUSIC (Song--Original for the Picture)',\n",
       "       'WRITING (Story and Screenplay--based on material not previously published or produced)',\n",
       "       'MUSIC (Scoring of Music--adaptation or treatment)',\n",
       "       'OUTSTANDING MOTION PICTURE', 'WRITING (Original Story)',\n",
       "       'SHORT FILM (Animated)', 'SHORT SUBJECT (Animated)',\n",
       "       'WRITING (Adaptation)',\n",
       "       'MUSIC (Music Score--substantially original)',\n",
       "       'WRITING (Screenplay Based on Material from Another Medium)',\n",
       "       'WRITING (Original Motion Picture Story)',\n",
       "       'MUSIC (Music Score of a Dramatic Picture)',\n",
       "       'MAKEUP AND HAIRSTYLING', 'MAKEUP',\n",
       "       'WRITING (Screenplay Written Directly for the Screen--based on factual material or on story material not previously published or produced)',\n",
       "       'MUSIC (Score of a Musical Picture--original or adaptation)',\n",
       "       'MUSIC (Scoring: Original Song Score and Adaptation -or- Scoring: Adaptation)',\n",
       "       'SOUND EFFECTS', 'MUSIC (Original Dramatic Score)',\n",
       "       'WRITING (Screenplay Based on Material Previously Produced or Published)',\n",
       "       'MUSIC (Original Music Score)', 'SPECIAL VISUAL EFFECTS',\n",
       "       'SPECIAL ACHIEVEMENT AWARD (Sound Effects)',\n",
       "       'SPECIAL ACHIEVEMENT AWARD (Visual Effects)',\n",
       "       'MUSIC (Original Musical or Comedy Score)', 'SOUND EDITING',\n",
       "       'WRITING (Screenplay--Original)', 'FOREIGN LANGUAGE FILM',\n",
       "       'SPECIAL ACHIEVEMENT AWARD (Sound Effects Editing)',\n",
       "       'MUSIC (Original Song Score)',\n",
       "       'MUSIC (Original Song Score and Its Adaptation or Adaptation Score)',\n",
       "       'WRITING (Story and Screenplay--based on factual material or material not previously published or produced)',\n",
       "       'WRITING (Screenplay Adapted from Other Material)',\n",
       "       'DANCE DIRECTION', 'OUTSTANDING PICTURE',\n",
       "       'MUSIC (Original Song Score and Its Adaptation -or- Adaptation Score)',\n",
       "       'Costume Design',\n",
       "       'MUSIC (Scoring: Adaptation and Original Song Score)',\n",
       "       'INTERNATIONAL FEATURE FILM',\n",
       "       'SPECIAL ACHIEVEMENT AWARD (Sound Editing)',\n",
       "       'SHORT SUBJECT (Two-reel)', 'MUSIC (Adaptation Score)',\n",
       "       'SHORT SUBJECT (Color)', 'SHORT SUBJECT (Comedy)',\n",
       "       'SHORT SUBJECT (Live Action)', 'DIRECTING (Comedy Picture)',\n",
       "       'MUSIC (Original Song Score or Adaptation Score)',\n",
       "       'SHORT SUBJECT (Novelty)', 'Actor in a Leading Role',\n",
       "       'Actress in a Supporting Role', 'ENGINEERING EFFECTS'],\n",
       "      dtype=object)"
      ]
     },
     "execution_count": 4,
     "metadata": {},
     "output_type": "execute_result"
    }
   ],
   "source": [
    "data.category.unique()"
   ]
  },
  {
   "cell_type": "code",
   "execution_count": 5,
   "id": "ef3d3d0d",
   "metadata": {},
   "outputs": [],
   "source": [
    "# TODO: Cluster best picture categories in cleaning script \n",
    "best_picture_categories = ['BEST MOTION PICTURE', 'BEST PICTURE', 'OUTSTANDING PICTURE', \n",
    "                           'OUTSTANDING MOTION PICTURE', 'Best Picture', 'BEST MOTION PICTURE']"
   ]
  },
  {
   "cell_type": "code",
   "execution_count": 6,
   "id": "27d05324",
   "metadata": {},
   "outputs": [],
   "source": [
    "# Subset down to only best picture wins, and features of interest.\n",
    "data = data.loc[data['category'].isin(best_picture_categories), ['tomatometer_rating', 'movie_title', 'year_film', 'winner']].drop_duplicates()"
   ]
  },
  {
   "cell_type": "code",
   "execution_count": 7,
   "id": "d13fd66b",
   "metadata": {},
   "outputs": [],
   "source": [
    "# There should only be one winner per year.\n",
    "# TODO: This needs to go into data cleaning\n",
    "dupe_names = data.loc[data.duplicated('movie_title'), 'movie_title'].unique()\n",
    "data = data.loc[~data['movie_title'].isin(dupe_names)]"
   ]
  },
  {
   "cell_type": "code",
   "execution_count": 8,
   "id": "c32fa4a9",
   "metadata": {},
   "outputs": [],
   "source": [
    "# TODO add to data cleaning. Drop where winner column is null\n",
    "data = data.loc[~data['winner'].isna()]"
   ]
  },
  {
   "cell_type": "code",
   "execution_count": 9,
   "id": "c7aeeb05",
   "metadata": {},
   "outputs": [],
   "source": [
    "if any(data.loc[data['winner'] == True].duplicated('year_film')):\n",
    "    raise Exception(\"Multiple winners found in a single year!\")"
   ]
  },
  {
   "cell_type": "code",
   "execution_count": 10,
   "id": "48ebd8bf",
   "metadata": {},
   "outputs": [
    {
     "data": {
      "text/html": [
       "<div>\n",
       "<style scoped>\n",
       "    .dataframe tbody tr th:only-of-type {\n",
       "        vertical-align: middle;\n",
       "    }\n",
       "\n",
       "    .dataframe tbody tr th {\n",
       "        vertical-align: top;\n",
       "    }\n",
       "\n",
       "    .dataframe thead th {\n",
       "        text-align: right;\n",
       "    }\n",
       "</style>\n",
       "<table border=\"1\" class=\"dataframe\">\n",
       "  <thead>\n",
       "    <tr style=\"text-align: right;\">\n",
       "      <th></th>\n",
       "      <th>tomatometer_rating</th>\n",
       "      <th>movie_title</th>\n",
       "      <th>year_film</th>\n",
       "      <th>winner</th>\n",
       "    </tr>\n",
       "  </thead>\n",
       "  <tbody>\n",
       "    <tr>\n",
       "      <th>0</th>\n",
       "      <td>95.0</td>\n",
       "      <td>All the King's Men</td>\n",
       "      <td>1949</td>\n",
       "      <td>True</td>\n",
       "    </tr>\n",
       "    <tr>\n",
       "      <th>1</th>\n",
       "      <td>72.0</td>\n",
       "      <td>Julia</td>\n",
       "      <td>1977</td>\n",
       "      <td>False</td>\n",
       "    </tr>\n",
       "    <tr>\n",
       "      <th>2</th>\n",
       "      <td>93.0</td>\n",
       "      <td>The Apartment</td>\n",
       "      <td>1960</td>\n",
       "      <td>True</td>\n",
       "    </tr>\n",
       "    <tr>\n",
       "      <th>3</th>\n",
       "      <td>94.0</td>\n",
       "      <td>Winter's Bone</td>\n",
       "      <td>2010</td>\n",
       "      <td>False</td>\n",
       "    </tr>\n",
       "    <tr>\n",
       "      <th>4</th>\n",
       "      <td>92.0</td>\n",
       "      <td>The Kids Are All Right</td>\n",
       "      <td>2010</td>\n",
       "      <td>False</td>\n",
       "    </tr>\n",
       "  </tbody>\n",
       "</table>\n",
       "</div>"
      ],
      "text/plain": [
       "   tomatometer_rating             movie_title  year_film winner\n",
       "0                95.0      All the King's Men       1949   True\n",
       "1                72.0                   Julia       1977  False\n",
       "2                93.0           The Apartment       1960   True\n",
       "3                94.0           Winter's Bone       2010  False\n",
       "4                92.0  The Kids Are All Right       2010  False"
      ]
     },
     "execution_count": 10,
     "metadata": {},
     "output_type": "execute_result"
    }
   ],
   "source": [
    "data = data.reset_index(drop=True)\n",
    "data.head()"
   ]
  },
  {
   "cell_type": "markdown",
   "id": "582b5774",
   "metadata": {},
   "source": [
    "## Plot this data"
   ]
  },
  {
   "cell_type": "code",
   "execution_count": 11,
   "id": "aff92d9a",
   "metadata": {},
   "outputs": [
    {
     "data": {
      "text/plain": [
       "<matplotlib.collections.PathCollection at 0x7f5c4c081dc0>"
      ]
     },
     "execution_count": 11,
     "metadata": {},
     "output_type": "execute_result"
    },
    {
     "data": {
      "image/png": "[encoded data removed]",
      "text/plain": [
       "<Figure size 640x480 with 1 Axes>"
      ]
     },
     "metadata": {},
     "output_type": "display_data"
    }
   ],
   "source": [
    "import matplotlib.pyplot as plt\n",
    "\n",
    "plt.scatter(data['tomatometer_rating'], data['tomatometer_rating'], c=data['winner'])"
   ]
  },
  {
   "cell_type": "code",
   "execution_count": null,
   "id": "59d29ac3",
   "metadata": {},
   "outputs": [],
   "source": [
    "\"\"\"\n",
    "Make a binned barplot\n",
    "fig, ax = plt.subplots(figsize=(9, 6))\n",
    "\n",
    "for result in data.winner.unique():\n",
    "    subset = data.loc[data['winner']==result]\n",
    "    ax.bar(x)\n",
    "\"\"\""
   ]
  },
  {
   "cell_type": "markdown",
   "id": "5e1a87f7",
   "metadata": {},
   "source": [
    "## Run model"
   ]
  },
  {
   "cell_type": "code",
   "execution_count": 13,
   "id": "e11d9716",
   "metadata": {},
   "outputs": [],
   "source": [
    "X = np.array(data['tomatometer_rating'])\n",
    "X = X.reshape(-1, 1)\n",
    "\n",
    "y = data['winner'].astype(int)"
   ]
  },
  {
   "cell_type": "code",
   "execution_count": 14,
   "id": "639e9a80",
   "metadata": {},
   "outputs": [],
   "source": [
    "model = LogisticRegression(random_state=0).fit(X, y)"
   ]
  },
  {
   "cell_type": "code",
   "execution_count": 15,
   "id": "dbd7fadb",
   "metadata": {},
   "outputs": [
    {
     "data": {
      "text/plain": [
       "array([[0.0033678]])"
      ]
     },
     "execution_count": 15,
     "metadata": {},
     "output_type": "execute_result"
    }
   ],
   "source": [
    "model.coef_"
   ]
  },
  {
   "cell_type": "code",
   "execution_count": 16,
   "id": "12f46c3b",
   "metadata": {},
   "outputs": [
    {
     "data": {
      "text/plain": [
       "0.816711590296496"
      ]
     },
     "execution_count": 16,
     "metadata": {},
     "output_type": "execute_result"
    }
   ],
   "source": [
    "preds = model.predict(X)\n",
    "accuracy_score(y, preds)"
   ]
  },
  {
   "cell_type": "code",
   "execution_count": 17,
   "id": "3a0a6b00",
   "metadata": {},
   "outputs": [
    {
     "data": {
      "text/plain": [
       "array([0, 0, 0, 0, 0, 0, 0, 0, 0, 0, 0, 0, 0, 0, 0, 0, 0, 0, 0, 0, 0, 0,\n",
       "       0, 0, 0, 0, 0, 0, 0, 0, 0, 0, 0, 0, 0, 0, 0, 0, 0, 0, 0, 0, 0, 0,\n",
       "       0, 0, 0, 0, 0, 0, 0, 0, 0, 0, 0, 0, 0, 0, 0, 0, 0, 0, 0, 0, 0, 0,\n",
       "       0, 0, 0, 0, 0, 0, 0, 0, 0, 0, 0, 0, 0, 0, 0, 0, 0, 0, 0, 0, 0, 0,\n",
       "       0, 0, 0, 0, 0, 0, 0, 0, 0, 0, 0, 0, 0, 0, 0, 0, 0, 0, 0, 0, 0, 0,\n",
       "       0, 0, 0, 0, 0, 0, 0, 0, 0, 0, 0, 0, 0, 0, 0, 0, 0, 0, 0, 0, 0, 0,\n",
       "       0, 0, 0, 0, 0, 0, 0, 0, 0, 0, 0, 0, 0, 0, 0, 0, 0, 0, 0, 0, 0, 0,\n",
       "       0, 0, 0, 0, 0, 0, 0, 0, 0, 0, 0, 0, 0, 0, 0, 0, 0, 0, 0, 0, 0, 0,\n",
       "       0, 0, 0, 0, 0, 0, 0, 0, 0, 0, 0, 0, 0, 0, 0, 0, 0, 0, 0, 0, 0, 0,\n",
       "       0, 0, 0, 0, 0, 0, 0, 0, 0, 0, 0, 0, 0, 0, 0, 0, 0, 0, 0, 0, 0, 0,\n",
       "       0, 0, 0, 0, 0, 0, 0, 0, 0, 0, 0, 0, 0, 0, 0, 0, 0, 0, 0, 0, 0, 0,\n",
       "       0, 0, 0, 0, 0, 0, 0, 0, 0, 0, 0, 0, 0, 0, 0, 0, 0, 0, 0, 0, 0, 0,\n",
       "       0, 0, 0, 0, 0, 0, 0, 0, 0, 0, 0, 0, 0, 0, 0, 0, 0, 0, 0, 0, 0, 0,\n",
       "       0, 0, 0, 0, 0, 0, 0, 0, 0, 0, 0, 0, 0, 0, 0, 0, 0, 0, 0, 0, 0, 0,\n",
       "       0, 0, 0, 0, 0, 0, 0, 0, 0, 0, 0, 0, 0, 0, 0, 0, 0, 0, 0, 0, 0, 0,\n",
       "       0, 0, 0, 0, 0, 0, 0, 0, 0, 0, 0, 0, 0, 0, 0, 0, 0, 0, 0, 0, 0, 0,\n",
       "       0, 0, 0, 0, 0, 0, 0, 0, 0, 0, 0, 0, 0, 0, 0, 0, 0, 0, 0])"
      ]
     },
     "execution_count": 17,
     "metadata": {},
     "output_type": "execute_result"
    }
   ],
   "source": [
    "## Which movies does this make an incorrect prediction for? Why? \n",
    "preds"
   ]
  },
  {
   "cell_type": "code",
   "execution_count": 18,
   "id": "4d4719f7",
   "metadata": {},
   "outputs": [
    {
     "data": {
      "text/html": [
       "<div>\n",
       "<style scoped>\n",
       "    .dataframe tbody tr th:only-of-type {\n",
       "        vertical-align: middle;\n",
       "    }\n",
       "\n",
       "    .dataframe tbody tr th {\n",
       "        vertical-align: top;\n",
       "    }\n",
       "\n",
       "    .dataframe thead th {\n",
       "        text-align: right;\n",
       "    }\n",
       "</style>\n",
       "<table border=\"1\" class=\"dataframe\">\n",
       "  <thead>\n",
       "    <tr style=\"text-align: right;\">\n",
       "      <th></th>\n",
       "      <th>tomatometer_rating</th>\n",
       "      <th>movie_title</th>\n",
       "      <th>year_film</th>\n",
       "      <th>winner</th>\n",
       "    </tr>\n",
       "  </thead>\n",
       "  <tbody>\n",
       "    <tr>\n",
       "      <th>0</th>\n",
       "      <td>95.0</td>\n",
       "      <td>All the King's Men</td>\n",
       "      <td>1949</td>\n",
       "      <td>True</td>\n",
       "    </tr>\n",
       "    <tr>\n",
       "      <th>1</th>\n",
       "      <td>72.0</td>\n",
       "      <td>Julia</td>\n",
       "      <td>1977</td>\n",
       "      <td>False</td>\n",
       "    </tr>\n",
       "    <tr>\n",
       "      <th>2</th>\n",
       "      <td>93.0</td>\n",
       "      <td>The Apartment</td>\n",
       "      <td>1960</td>\n",
       "      <td>True</td>\n",
       "    </tr>\n",
       "    <tr>\n",
       "      <th>3</th>\n",
       "      <td>94.0</td>\n",
       "      <td>Winter's Bone</td>\n",
       "      <td>2010</td>\n",
       "      <td>False</td>\n",
       "    </tr>\n",
       "    <tr>\n",
       "      <th>4</th>\n",
       "      <td>92.0</td>\n",
       "      <td>The Kids Are All Right</td>\n",
       "      <td>2010</td>\n",
       "      <td>False</td>\n",
       "    </tr>\n",
       "  </tbody>\n",
       "</table>\n",
       "</div>"
      ],
      "text/plain": [
       "   tomatometer_rating             movie_title  year_film winner\n",
       "0                95.0      All the King's Men       1949   True\n",
       "1                72.0                   Julia       1977  False\n",
       "2                93.0           The Apartment       1960   True\n",
       "3                94.0           Winter's Bone       2010  False\n",
       "4                92.0  The Kids Are All Right       2010  False"
      ]
     },
     "execution_count": 18,
     "metadata": {},
     "output_type": "execute_result"
    }
   ],
   "source": [
    "data.head()"
   ]
  },
  {
   "cell_type": "code",
   "execution_count": 19,
   "id": "06415450",
   "metadata": {},
   "outputs": [
    {
     "data": {
      "text/plain": [
       "0    1\n",
       "1    0\n",
       "2    1\n",
       "3    0\n",
       "4    0\n",
       "Name: winner, dtype: int64"
      ]
     },
     "execution_count": 19,
     "metadata": {},
     "output_type": "execute_result"
    }
   ],
   "source": [
    "y[0:5]"
   ]
  },
  {
   "cell_type": "code",
   "execution_count": 20,
   "id": "9a6e7f56",
   "metadata": {},
   "outputs": [
    {
     "data": {
      "text/plain": [
       "False    303\n",
       "True      68\n",
       "Name: winner, dtype: int64"
      ]
     },
     "execution_count": 20,
     "metadata": {},
     "output_type": "execute_result"
    }
   ],
   "source": [
    "data.winner.value_counts()"
   ]
  },
  {
   "cell_type": "code",
   "execution_count": 21,
   "id": "1c30dd4e",
   "metadata": {},
   "outputs": [],
   "source": [
    "model = LogisticRegression(random_state=0, solver='liblinear').fit(X, y)"
   ]
  },
  {
   "cell_type": "code",
   "execution_count": 22,
   "id": "82e6dfea",
   "metadata": {},
   "outputs": [
    {
     "data": {
      "text/plain": [
       "array([[-0.00575191]])"
      ]
     },
     "execution_count": 22,
     "metadata": {},
     "output_type": "execute_result"
    }
   ],
   "source": [
    "model.coef_"
   ]
  },
  {
   "cell_type": "code",
   "execution_count": 23,
   "id": "3208c3ed",
   "metadata": {},
   "outputs": [
    {
     "data": {
      "text/plain": [
       "0.816711590296496"
      ]
     },
     "execution_count": 23,
     "metadata": {},
     "output_type": "execute_result"
    }
   ],
   "source": [
    "preds = model.predict(X)\n",
    "accuracy_score(y, preds)"
   ]
  },
  {
   "cell_type": "code",
   "execution_count": 24,
   "id": "82e7e011",
   "metadata": {},
   "outputs": [
    {
     "data": {
      "text/plain": [
       "array([0, 0, 0, 0, 0, 0, 0, 0, 0, 0, 0, 0, 0, 0, 0, 0, 0, 0, 0, 0, 0, 0,\n",
       "       0, 0, 0, 0, 0, 0, 0, 0, 0, 0, 0, 0, 0, 0, 0, 0, 0, 0, 0, 0, 0, 0,\n",
       "       0, 0, 0, 0, 0, 0, 0, 0, 0, 0, 0, 0, 0, 0, 0, 0, 0, 0, 0, 0, 0, 0,\n",
       "       0, 0, 0, 0, 0, 0, 0, 0, 0, 0, 0, 0, 0, 0, 0, 0, 0, 0, 0, 0, 0, 0,\n",
       "       0, 0, 0, 0, 0, 0, 0, 0, 0, 0, 0, 0, 0, 0, 0, 0, 0, 0, 0, 0, 0, 0,\n",
       "       0, 0, 0, 0, 0, 0, 0, 0, 0, 0, 0, 0, 0, 0, 0, 0, 0, 0, 0, 0, 0, 0,\n",
       "       0, 0, 0, 0, 0, 0, 0, 0, 0, 0, 0, 0, 0, 0, 0, 0, 0, 0, 0, 0, 0, 0,\n",
       "       0, 0, 0, 0, 0, 0, 0, 0, 0, 0, 0, 0, 0, 0, 0, 0, 0, 0, 0, 0, 0, 0,\n",
       "       0, 0, 0, 0, 0, 0, 0, 0, 0, 0, 0, 0, 0, 0, 0, 0, 0, 0, 0, 0, 0, 0,\n",
       "       0, 0, 0, 0, 0, 0, 0, 0, 0, 0, 0, 0, 0, 0, 0, 0, 0, 0, 0, 0, 0, 0,\n",
       "       0, 0, 0, 0, 0, 0, 0, 0, 0, 0, 0, 0, 0, 0, 0, 0, 0, 0, 0, 0, 0, 0,\n",
       "       0, 0, 0, 0, 0, 0, 0, 0, 0, 0, 0, 0, 0, 0, 0, 0, 0, 0, 0, 0, 0, 0,\n",
       "       0, 0, 0, 0, 0, 0, 0, 0, 0, 0, 0, 0, 0, 0, 0, 0, 0, 0, 0, 0, 0, 0,\n",
       "       0, 0, 0, 0, 0, 0, 0, 0, 0, 0, 0, 0, 0, 0, 0, 0, 0, 0, 0, 0, 0, 0,\n",
       "       0, 0, 0, 0, 0, 0, 0, 0, 0, 0, 0, 0, 0, 0, 0, 0, 0, 0, 0, 0, 0, 0,\n",
       "       0, 0, 0, 0, 0, 0, 0, 0, 0, 0, 0, 0, 0, 0, 0, 0, 0, 0, 0, 0, 0, 0,\n",
       "       0, 0, 0, 0, 0, 0, 0, 0, 0, 0, 0, 0, 0, 0, 0, 0, 0, 0, 0])"
      ]
     },
     "execution_count": 24,
     "metadata": {},
     "output_type": "execute_result"
    }
   ],
   "source": [
    "preds"
   ]
  },
  {
   "cell_type": "code",
   "execution_count": 25,
   "id": "9105a971",
   "metadata": {},
   "outputs": [
    {
     "data": {
      "text/plain": [
       "(array([ 1.,  0.,  0.,  1.,  3.,  0.,  1.,  4.,  2.,  1.,  1.,  1.,  3.,\n",
       "         5.,  6., 10.,  9., 13., 14., 23., 30., 57., 70., 58., 58.]),\n",
       " array([ 18.  ,  21.28,  24.56,  27.84,  31.12,  34.4 ,  37.68,  40.96,\n",
       "         44.24,  47.52,  50.8 ,  54.08,  57.36,  60.64,  63.92,  67.2 ,\n",
       "         70.48,  73.76,  77.04,  80.32,  83.6 ,  86.88,  90.16,  93.44,\n",
       "         96.72, 100.  ]),\n",
       " <BarContainer object of 25 artists>)"
      ]
     },
     "execution_count": 25,
     "metadata": {},
     "output_type": "execute_result"
    },
    {
     "data": {
      "image/png": "[encoded data removed]",
      "text/plain": [
       "<Figure size 640x480 with 1 Axes>"
      ]
     },
     "metadata": {},
     "output_type": "display_data"
    }
   ],
   "source": [
    "plt.hist(data['tomatometer_rating'], bins='auto')"
   ]
  },
  {
   "cell_type": "markdown",
   "id": "c546effd",
   "metadata": {},
   "source": [
    "## Try setting the class weight parameter to \"balanced\". This should give a higher penalty for predicting a loss incorrectly. "
   ]
  },
  {
   "cell_type": "code",
   "execution_count": 26,
   "id": "0372ae71",
   "metadata": {},
   "outputs": [],
   "source": [
    "model = LogisticRegression(random_state=0, solver='liblinear', class_weight='balanced').fit(X, y)"
   ]
  },
  {
   "cell_type": "code",
   "execution_count": 27,
   "id": "91814081",
   "metadata": {},
   "outputs": [
    {
     "data": {
      "text/plain": [
       "array([[0.00210688]])"
      ]
     },
     "execution_count": 27,
     "metadata": {},
     "output_type": "execute_result"
    }
   ],
   "source": [
    "model.coef_"
   ]
  },
  {
   "cell_type": "code",
   "execution_count": 28,
   "id": "3bdd4a0d",
   "metadata": {},
   "outputs": [
    {
     "data": {
      "text/plain": [
       "0.3881401617250674"
      ]
     },
     "execution_count": 28,
     "metadata": {},
     "output_type": "execute_result"
    }
   ],
   "source": [
    "preds = model.predict(X)\n",
    "accuracy_score(y, preds)"
   ]
  },
  {
   "cell_type": "code",
   "execution_count": 29,
   "id": "ebba085a",
   "metadata": {},
   "outputs": [
    {
     "data": {
      "text/plain": [
       "array([1, 0, 1, 1, 1, 0, 1, 1, 1, 0, 1, 0, 0, 1, 0, 1, 0, 0, 1, 1, 1, 1,\n",
       "       1, 1, 0, 1, 0, 1, 0, 1, 1, 0, 1, 1, 0, 1, 1, 1, 1, 1, 0, 1, 0, 1,\n",
       "       1, 1, 1, 0, 1, 0, 0, 0, 1, 1, 1, 0, 1, 0, 1, 1, 1, 1, 0, 0, 1, 1,\n",
       "       0, 1, 1, 1, 1, 0, 1, 1, 1, 0, 0, 1, 1, 1, 1, 1, 0, 1, 0, 1, 0, 0,\n",
       "       1, 1, 0, 0, 1, 0, 1, 0, 1, 0, 0, 1, 0, 1, 1, 1, 1, 1, 0, 1, 1, 0,\n",
       "       1, 1, 1, 1, 0, 1, 0, 1, 0, 0, 1, 1, 1, 0, 1, 1, 0, 1, 1, 0, 1, 0,\n",
       "       0, 0, 0, 1, 1, 0, 1, 1, 0, 1, 1, 1, 1, 0, 0, 1, 0, 0, 1, 1, 0, 0,\n",
       "       1, 0, 1, 0, 0, 1, 1, 1, 1, 1, 1, 0, 0, 0, 1, 1, 0, 1, 0, 0, 1, 1,\n",
       "       1, 1, 0, 0, 0, 0, 1, 0, 1, 1, 0, 1, 1, 1, 0, 1, 1, 1, 1, 1, 0, 1,\n",
       "       1, 1, 1, 1, 1, 1, 1, 1, 0, 1, 1, 1, 1, 1, 1, 1, 1, 1, 1, 1, 1, 0,\n",
       "       1, 1, 1, 1, 0, 1, 1, 1, 1, 0, 1, 1, 1, 1, 1, 1, 0, 1, 1, 1, 1, 1,\n",
       "       1, 1, 0, 1, 1, 1, 1, 0, 1, 1, 1, 1, 1, 1, 0, 1, 1, 1, 0, 1, 0, 0,\n",
       "       1, 0, 1, 1, 1, 1, 0, 0, 0, 1, 1, 1, 0, 1, 1, 1, 1, 1, 0, 1, 1, 1,\n",
       "       1, 0, 0, 1, 1, 0, 1, 1, 1, 0, 1, 1, 1, 0, 1, 1, 1, 1, 1, 1, 1, 0,\n",
       "       1, 1, 1, 1, 1, 1, 1, 1, 0, 1, 1, 1, 0, 0, 0, 1, 1, 1, 0, 1, 1, 1,\n",
       "       1, 1, 0, 0, 1, 1, 1, 1, 1, 1, 1, 1, 1, 1, 1, 0, 0, 0, 1, 0, 0, 1,\n",
       "       0, 0, 1, 1, 1, 1, 1, 0, 0, 1, 1, 0, 1, 1, 0, 1, 1, 1, 0])"
      ]
     },
     "execution_count": 29,
     "metadata": {},
     "output_type": "execute_result"
    }
   ],
   "source": [
    "preds"
   ]
  },
  {
   "cell_type": "code",
   "execution_count": 43,
   "id": "800a2be4",
   "metadata": {},
   "outputs": [
    {
     "data": {
      "text/plain": [
       "array([[0.00265519]])"
      ]
     },
     "execution_count": 43,
     "metadata": {},
     "output_type": "execute_result"
    }
   ],
   "source": [
    "# Okay, this is too strong! Back off model. \n",
    "# Let's try some custom dictionaries of weights. \n",
    "weights = {1: 5, 0: 1} # Give a win a weight of 5, versus a weight of 1 for a loss. \n",
    "model = LogisticRegression(random_state=0, solver='liblinear', class_weight=weights).fit(X, y)\n",
    "model.coef_"
   ]
  },
  {
   "cell_type": "code",
   "execution_count": 44,
   "id": "0b8f56d5",
   "metadata": {},
   "outputs": [
    {
     "data": {
      "text/plain": [
       "0.18598382749326145"
      ]
     },
     "execution_count": 44,
     "metadata": {},
     "output_type": "execute_result"
    }
   ],
   "source": [
    "preds = model.predict(X)\n",
    "accuracy_score(y, preds)"
   ]
  },
  {
   "cell_type": "code",
   "execution_count": 45,
   "id": "c681dbbb",
   "metadata": {},
   "outputs": [
    {
     "data": {
      "text/plain": [
       "array([1, 1, 1, 1, 1, 1, 1, 1, 1, 1, 1, 1, 1, 1, 1, 1, 1, 1, 1, 1, 1, 1,\n",
       "       1, 1, 1, 1, 1, 1, 1, 1, 1, 1, 1, 1, 1, 1, 1, 1, 1, 1, 1, 1, 1, 1,\n",
       "       1, 1, 1, 1, 1, 1, 1, 1, 1, 1, 1, 1, 1, 1, 1, 1, 1, 1, 1, 1, 1, 1,\n",
       "       1, 1, 1, 1, 1, 1, 1, 1, 1, 1, 0, 1, 1, 1, 1, 1, 1, 1, 1, 1, 1, 1,\n",
       "       1, 1, 1, 1, 1, 1, 1, 1, 1, 0, 1, 1, 1, 1, 1, 1, 1, 1, 0, 1, 1, 1,\n",
       "       1, 1, 1, 1, 1, 1, 1, 1, 1, 1, 1, 1, 1, 1, 1, 1, 1, 1, 1, 1, 1, 1,\n",
       "       1, 1, 1, 1, 1, 1, 1, 1, 0, 1, 1, 1, 1, 1, 1, 1, 1, 1, 1, 1, 1, 1,\n",
       "       1, 1, 1, 1, 1, 1, 1, 1, 1, 1, 1, 1, 1, 1, 1, 1, 1, 1, 1, 1, 1, 1,\n",
       "       1, 1, 0, 1, 1, 1, 1, 1, 1, 1, 1, 1, 1, 1, 1, 1, 1, 1, 1, 1, 1, 1,\n",
       "       1, 1, 1, 1, 1, 1, 1, 1, 1, 1, 1, 1, 1, 1, 1, 1, 1, 1, 1, 1, 1, 1,\n",
       "       1, 1, 1, 1, 1, 1, 1, 1, 1, 1, 1, 1, 1, 1, 1, 1, 1, 1, 1, 1, 1, 1,\n",
       "       1, 1, 1, 1, 1, 1, 1, 1, 1, 1, 1, 1, 1, 1, 1, 1, 1, 1, 1, 1, 0, 1,\n",
       "       1, 1, 1, 1, 1, 1, 1, 1, 1, 1, 1, 1, 1, 1, 1, 1, 1, 1, 1, 1, 1, 1,\n",
       "       1, 1, 1, 1, 1, 0, 1, 1, 1, 1, 1, 1, 1, 1, 1, 1, 1, 1, 1, 1, 1, 1,\n",
       "       1, 1, 1, 1, 1, 1, 1, 1, 1, 1, 1, 1, 1, 1, 1, 1, 1, 1, 1, 1, 1, 1,\n",
       "       1, 1, 1, 1, 1, 1, 1, 1, 1, 1, 1, 1, 1, 1, 1, 1, 1, 1, 1, 1, 1, 1,\n",
       "       1, 1, 1, 1, 1, 1, 1, 1, 1, 1, 1, 1, 1, 1, 1, 1, 1, 1, 1])"
      ]
     },
     "execution_count": 45,
     "metadata": {},
     "output_type": "execute_result"
    }
   ],
   "source": [
    "preds"
   ]
  },
  {
   "cell_type": "code",
   "execution_count": 46,
   "id": "0a06fdac",
   "metadata": {},
   "outputs": [
    {
     "data": {
      "text/plain": [
       "array([0, 0, 0, 0, 0, 0, 0, 0, 0, 0, 0, 0, 0, 0, 0, 0, 0, 0, 0, 0, 0, 0,\n",
       "       0, 0, 0, 0, 0, 0, 0, 0, 0, 0, 0, 0, 0, 0, 0, 0, 0, 0, 0, 0, 0, 0,\n",
       "       0, 0, 0, 0, 0, 0, 0, 0, 0, 0, 0, 0, 0, 0, 0, 0, 0, 0, 0, 0, 0, 0,\n",
       "       0, 0, 0, 0, 0, 0, 0, 0, 0, 0, 0, 0, 0, 0, 0, 0, 0, 0, 0, 0, 0, 0,\n",
       "       0, 0, 0, 0, 0, 0, 0, 0, 0, 0, 0, 0, 0, 0, 0, 0, 0, 0, 0, 0, 0, 0,\n",
       "       0, 0, 0, 0, 0, 0, 0, 0, 0, 0, 0, 0, 0, 0, 0, 0, 0, 0, 0, 0, 0, 0,\n",
       "       0, 0, 0, 0, 0, 0, 0, 0, 0, 0, 0, 0, 0, 0, 0, 0, 0, 0, 0, 0, 0, 0,\n",
       "       0, 0, 0, 0, 0, 0, 0, 0, 0, 0, 0, 0, 0, 0, 0, 0, 0, 0, 0, 0, 0, 0,\n",
       "       0, 0, 0, 0, 0, 0, 0, 0, 0, 0, 0, 0, 0, 0, 0, 0, 0, 0, 0, 0, 0, 0,\n",
       "       0, 0, 0, 0, 0, 0, 0, 0, 0, 0, 0, 0, 0, 0, 0, 0, 0, 0, 0, 0, 0, 0,\n",
       "       0, 0, 0, 0, 0, 0, 0, 0, 0, 0, 0, 0, 0, 0, 0, 0, 0, 0, 0, 0, 0, 0,\n",
       "       0, 0, 0, 0, 0, 0, 0, 0, 0, 0, 0, 0, 0, 0, 0, 0, 0, 0, 0, 0, 0, 0,\n",
       "       0, 0, 0, 0, 0, 0, 0, 0, 0, 0, 0, 0, 0, 0, 0, 0, 0, 0, 0, 0, 0, 0,\n",
       "       0, 0, 0, 0, 0, 0, 0, 0, 0, 0, 0, 0, 0, 0, 0, 0, 0, 0, 0, 0, 0, 0,\n",
       "       0, 0, 0, 0, 0, 0, 0, 0, 0, 0, 0, 0, 0, 0, 0, 0, 0, 0, 0, 0, 0, 0,\n",
       "       0, 0, 0, 0, 0, 0, 0, 0, 0, 0, 0, 0, 0, 0, 0, 0, 0, 0, 0, 0, 0, 0,\n",
       "       0, 0, 0, 0, 0, 0, 0, 0, 0, 0, 0, 0, 0, 0, 0, 0, 0, 0, 0])"
      ]
     },
     "execution_count": 46,
     "metadata": {},
     "output_type": "execute_result"
    }
   ],
   "source": [
    "weights = {1: 3, 0: 1} # A weight of 5 is too strong - try a weight of 3. \n",
    "model = LogisticRegression(random_state=0, solver='liblinear', class_weight=weights).fit(X, y)\n",
    "preds = model.predict(X)\n",
    "preds"
   ]
  },
  {
   "cell_type": "code",
   "execution_count": 50,
   "id": "57c84409",
   "metadata": {},
   "outputs": [
    {
     "data": {
      "text/plain": [
       "False"
      ]
     },
     "execution_count": 50,
     "metadata": {},
     "output_type": "execute_result"
    }
   ],
   "source": [
    "any(preds > 0)"
   ]
  },
  {
   "cell_type": "code",
   "execution_count": 49,
   "id": "5483d8bb",
   "metadata": {},
   "outputs": [
    {
     "data": {
      "text/plain": [
       "array([3. , 3.1, 3.2, 3.3, 3.4, 3.5, 3.6, 3.7, 3.8, 3.9, 4. , 4.1, 4.2,\n",
       "       4.3, 4.4, 4.5, 4.6, 4.7, 4.8, 4.9])"
      ]
     },
     "execution_count": 49,
     "metadata": {},
     "output_type": "execute_result"
    }
   ],
   "source": [
    "# A weight of 3 is too light. \n",
    "# Write an algorithm to find the best weight for a win in .10 increments between 3 and 5. \n",
    "weights_to_test = np.arange(3, 5, .10)\n",
    "weights_to_test"
   ]
  },
  {
   "cell_type": "code",
   "execution_count": 52,
   "id": "409bd95f",
   "metadata": {},
   "outputs": [],
   "source": [
    "# Our scoring algorithm will be: \n",
    "# 1. You must predict at least one win for all input data \n",
    "# 2. Take the model with the highest accuracy. \n",
    "results = {}\n",
    "for weight in weights_to_test:\n",
    "    weights = {1: weight, 0: 1} # 'Loss' class always stays at 1\n",
    "    model = LogisticRegression(random_state=0, solver='liblinear', class_weight=weights).fit(X, y)\n",
    "    preds = model.predict(X)\n",
    "    \n",
    "    results[weight] = {\n",
    "        'any_win': any(preds > 0),\n",
    "        'accuracy': accuracy_score(y, preds)\n",
    "    }"
   ]
  },
  {
   "cell_type": "code",
   "execution_count": 53,
   "id": "b9c1bb50",
   "metadata": {},
   "outputs": [
    {
     "data": {
      "text/plain": [
       "{3.0: {'any_win': False, 'accuracy': 0.816711590296496},\n",
       " 3.1: {'any_win': False, 'accuracy': 0.816711590296496},\n",
       " 3.2: {'any_win': False, 'accuracy': 0.816711590296496},\n",
       " 3.3000000000000003: {'any_win': False, 'accuracy': 0.816711590296496},\n",
       " 3.4000000000000004: {'any_win': False, 'accuracy': 0.816711590296496},\n",
       " 3.5000000000000004: {'any_win': False, 'accuracy': 0.816711590296496},\n",
       " 3.6000000000000005: {'any_win': False, 'accuracy': 0.816711590296496},\n",
       " 3.7000000000000006: {'any_win': False, 'accuracy': 0.816711590296496},\n",
       " 3.8000000000000007: {'any_win': False, 'accuracy': 0.816711590296496},\n",
       " 3.900000000000001: {'any_win': False, 'accuracy': 0.816711590296496},\n",
       " 4.000000000000001: {'any_win': False, 'accuracy': 0.816711590296496},\n",
       " 4.100000000000001: {'any_win': False, 'accuracy': 0.816711590296496},\n",
       " 4.200000000000001: {'any_win': False, 'accuracy': 0.816711590296496},\n",
       " 4.300000000000001: {'any_win': False, 'accuracy': 0.816711590296496},\n",
       " 4.400000000000001: {'any_win': True, 'accuracy': 0.5633423180592992},\n",
       " 4.500000000000002: {'any_win': True, 'accuracy': 0.33153638814016173},\n",
       " 4.600000000000001: {'any_win': True, 'accuracy': 0.2857142857142857},\n",
       " 4.700000000000001: {'any_win': True, 'accuracy': 0.22641509433962265},\n",
       " 4.800000000000002: {'any_win': True, 'accuracy': 0.20754716981132076},\n",
       " 4.900000000000002: {'any_win': True, 'accuracy': 0.19946091644204852}}"
      ]
     },
     "execution_count": 53,
     "metadata": {},
     "output_type": "execute_result"
    }
   ],
   "source": [
    "results"
   ]
  },
  {
   "cell_type": "code",
   "execution_count": 54,
   "id": "bbdd20c3",
   "metadata": {},
   "outputs": [
    {
     "data": {
      "text/plain": [
       "array([1, 0, 1, 1, 1, 0, 0, 1, 1, 0, 0, 0, 0, 1, 0, 1, 0, 0, 0, 1, 0, 0,\n",
       "       0, 1, 0, 1, 0, 1, 0, 1, 1, 0, 1, 1, 0, 1, 1, 1, 1, 1, 0, 0, 0, 1,\n",
       "       0, 1, 1, 0, 1, 0, 0, 0, 1, 1, 1, 0, 0, 0, 1, 1, 0, 0, 0, 0, 1, 1,\n",
       "       0, 0, 1, 1, 1, 0, 1, 1, 1, 0, 0, 1, 1, 1, 1, 1, 0, 1, 0, 1, 0, 0,\n",
       "       0, 0, 0, 0, 1, 0, 1, 0, 1, 0, 0, 0, 0, 1, 1, 0, 1, 1, 0, 0, 1, 0,\n",
       "       1, 1, 1, 1, 0, 0, 0, 1, 0, 0, 1, 0, 0, 0, 1, 0, 0, 1, 1, 0, 1, 0,\n",
       "       0, 0, 0, 0, 0, 0, 0, 0, 0, 1, 1, 1, 1, 0, 0, 1, 0, 0, 1, 1, 0, 0,\n",
       "       0, 0, 0, 0, 0, 1, 1, 0, 1, 1, 1, 0, 0, 0, 1, 1, 0, 1, 0, 0, 1, 0,\n",
       "       0, 1, 0, 0, 0, 0, 1, 0, 0, 1, 0, 1, 1, 1, 0, 0, 0, 1, 1, 1, 0, 1,\n",
       "       1, 1, 0, 0, 0, 1, 1, 1, 0, 1, 1, 1, 0, 0, 1, 0, 1, 0, 1, 1, 0, 0,\n",
       "       1, 0, 0, 0, 0, 1, 0, 0, 1, 0, 1, 0, 1, 1, 1, 0, 0, 0, 0, 1, 1, 0,\n",
       "       1, 0, 0, 1, 1, 1, 1, 0, 1, 0, 0, 0, 0, 1, 0, 1, 1, 0, 0, 0, 0, 0,\n",
       "       1, 0, 0, 0, 1, 1, 0, 0, 0, 0, 0, 1, 0, 1, 1, 0, 1, 0, 0, 1, 1, 0,\n",
       "       0, 0, 0, 0, 1, 0, 1, 1, 1, 0, 0, 1, 1, 0, 1, 0, 0, 1, 1, 0, 0, 0,\n",
       "       1, 1, 1, 0, 0, 1, 0, 0, 0, 1, 1, 1, 0, 0, 0, 1, 1, 0, 0, 1, 0, 1,\n",
       "       0, 0, 0, 0, 1, 0, 1, 1, 0, 1, 1, 0, 1, 0, 1, 0, 0, 0, 1, 0, 0, 0,\n",
       "       0, 0, 1, 1, 1, 0, 0, 0, 0, 1, 1, 0, 1, 1, 0, 0, 1, 0, 0])"
      ]
     },
     "execution_count": 54,
     "metadata": {},
     "output_type": "execute_result"
    }
   ],
   "source": [
    "# Interesting. Make some plots here. \n",
    "# For weight = 4.4, what do the predictions look like? \n",
    "weights = {1: 4.4, 0: 1} # 'Loss' class always stays at 1\n",
    "model = LogisticRegression(random_state=0, solver='liblinear', class_weight=weights).fit(X, y)\n",
    "preds = model.predict(X)\n",
    "preds"
   ]
  },
  {
   "cell_type": "code",
   "execution_count": 56,
   "id": "a782bcfd",
   "metadata": {},
   "outputs": [
    {
     "data": {
      "text/plain": [
       "array([4.3 , 4.31, 4.32, 4.33, 4.34, 4.35, 4.36, 4.37, 4.38, 4.39, 4.4 ])"
      ]
     },
     "execution_count": 56,
     "metadata": {},
     "output_type": "execute_result"
    }
   ],
   "source": [
    "weights_to_test = np.arange(4.3, 4.4, .01)\n",
    "weights_to_test"
   ]
  },
  {
   "cell_type": "code",
   "execution_count": 57,
   "id": "69479d83",
   "metadata": {},
   "outputs": [],
   "source": [
    "# One more attempt - try hundredths between 4.3 and 4.4. \n",
    "# Our scoring algorithm will be: \n",
    "# 1. You must predict at least one win for all input data \n",
    "# 2. Take the model with the highest accuracy. \n",
    "results = {}\n",
    "for weight in weights_to_test:\n",
    "    weights = {1: weight, 0: 1} # 'Loss' class always stays at 1\n",
    "    model = LogisticRegression(random_state=0, solver='liblinear', class_weight=weights).fit(X, y)\n",
    "    preds = model.predict(X)\n",
    "    \n",
    "    results[weight] = {\n",
    "        'any_win': any(preds > 0),\n",
    "        'accuracy': accuracy_score(y, preds)\n",
    "    }"
   ]
  },
  {
   "cell_type": "code",
   "execution_count": 58,
   "id": "0a2a2a53",
   "metadata": {},
   "outputs": [
    {
     "data": {
      "text/plain": [
       "{4.3: {'any_win': False, 'accuracy': 0.816711590296496},\n",
       " 4.31: {'any_win': False, 'accuracy': 0.816711590296496},\n",
       " 4.319999999999999: {'any_win': True, 'accuracy': 0.7735849056603774},\n",
       " 4.329999999999999: {'any_win': True, 'accuracy': 0.7681940700808625},\n",
       " 4.339999999999999: {'any_win': True, 'accuracy': 0.7547169811320755},\n",
       " 4.349999999999999: {'any_win': True, 'accuracy': 0.7250673854447439},\n",
       " 4.3599999999999985: {'any_win': True, 'accuracy': 0.6846361185983828},\n",
       " 4.369999999999998: {'any_win': True, 'accuracy': 0.6765498652291105},\n",
       " 4.379999999999998: {'any_win': True, 'accuracy': 0.6388140161725068},\n",
       " 4.389999999999998: {'any_win': True, 'accuracy': 0.5929919137466307},\n",
       " 4.399999999999998: {'any_win': True, 'accuracy': 0.5633423180592992}}"
      ]
     },
     "execution_count": 58,
     "metadata": {},
     "output_type": "execute_result"
    }
   ],
   "source": [
    "results"
   ]
  },
  {
   "cell_type": "code",
   "execution_count": 59,
   "id": "3391050b",
   "metadata": {},
   "outputs": [
    {
     "data": {
      "text/plain": [
       "array([4.3  , 4.301, 4.302, 4.303, 4.304, 4.305, 4.306, 4.307, 4.308,\n",
       "       4.309, 4.31 , 4.311, 4.312, 4.313, 4.314, 4.315, 4.316, 4.317,\n",
       "       4.318, 4.319, 4.32 , 4.321, 4.322, 4.323, 4.324, 4.325, 4.326,\n",
       "       4.327, 4.328, 4.329, 4.33 , 4.331, 4.332, 4.333, 4.334, 4.335,\n",
       "       4.336, 4.337, 4.338, 4.339, 4.34 , 4.341, 4.342, 4.343, 4.344,\n",
       "       4.345, 4.346, 4.347, 4.348, 4.349, 4.35 , 4.351, 4.352, 4.353,\n",
       "       4.354, 4.355, 4.356, 4.357, 4.358, 4.359, 4.36 , 4.361, 4.362,\n",
       "       4.363, 4.364, 4.365, 4.366, 4.367, 4.368, 4.369, 4.37 , 4.371,\n",
       "       4.372, 4.373, 4.374, 4.375, 4.376, 4.377, 4.378, 4.379, 4.38 ,\n",
       "       4.381, 4.382, 4.383, 4.384, 4.385, 4.386, 4.387, 4.388, 4.389,\n",
       "       4.39 , 4.391, 4.392, 4.393, 4.394, 4.395, 4.396, 4.397, 4.398,\n",
       "       4.399, 4.4  ])"
      ]
     },
     "execution_count": 59,
     "metadata": {},
     "output_type": "execute_result"
    }
   ],
   "source": [
    "# Thousandths!\n",
    "weights_to_test = np.arange(4.3, 4.4, .001)\n",
    "weights_to_test"
   ]
  },
  {
   "cell_type": "code",
   "execution_count": 60,
   "id": "2b055d54",
   "metadata": {},
   "outputs": [],
   "source": [
    "results = {}\n",
    "for weight in weights_to_test:\n",
    "    weights = {1: weight, 0: 1} # 'Loss' class always stays at 1\n",
    "    model = LogisticRegression(random_state=0, solver='liblinear', class_weight=weights).fit(X, y)\n",
    "    preds = model.predict(X)\n",
    "    \n",
    "    results[weight] = {\n",
    "        'any_win': any(preds > 0),\n",
    "        'accuracy': accuracy_score(y, preds)\n",
    "    }"
   ]
  },
  {
   "cell_type": "code",
   "execution_count": 61,
   "id": "3bfc7481",
   "metadata": {},
   "outputs": [
    {
     "data": {
      "text/plain": [
       "{4.3: {'any_win': False, 'accuracy': 0.816711590296496},\n",
       " 4.301: {'any_win': False, 'accuracy': 0.816711590296496},\n",
       " 4.3020000000000005: {'any_win': False, 'accuracy': 0.816711590296496},\n",
       " 4.303000000000001: {'any_win': False, 'accuracy': 0.816711590296496},\n",
       " 4.304000000000001: {'any_win': False, 'accuracy': 0.816711590296496},\n",
       " 4.3050000000000015: {'any_win': False, 'accuracy': 0.816711590296496},\n",
       " 4.306000000000002: {'any_win': False, 'accuracy': 0.816711590296496},\n",
       " 4.307000000000002: {'any_win': False, 'accuracy': 0.816711590296496},\n",
       " 4.3080000000000025: {'any_win': False, 'accuracy': 0.816711590296496},\n",
       " 4.309000000000003: {'any_win': False, 'accuracy': 0.816711590296496},\n",
       " 4.310000000000003: {'any_win': False, 'accuracy': 0.816711590296496},\n",
       " 4.3110000000000035: {'any_win': False, 'accuracy': 0.816711590296496},\n",
       " 4.312000000000004: {'any_win': False, 'accuracy': 0.816711590296496},\n",
       " 4.313000000000004: {'any_win': False, 'accuracy': 0.816711590296496},\n",
       " 4.3140000000000045: {'any_win': False, 'accuracy': 0.816711590296496},\n",
       " 4.315000000000005: {'any_win': True, 'accuracy': 0.7735849056603774},\n",
       " 4.316000000000005: {'any_win': True, 'accuracy': 0.7735849056603774},\n",
       " 4.3170000000000055: {'any_win': True, 'accuracy': 0.7735849056603774},\n",
       " 4.318000000000006: {'any_win': True, 'accuracy': 0.7735849056603774},\n",
       " 4.319000000000006: {'any_win': True, 'accuracy': 0.7735849056603774},\n",
       " 4.3200000000000065: {'any_win': True, 'accuracy': 0.7735849056603774},\n",
       " 4.321000000000007: {'any_win': True, 'accuracy': 0.7735849056603774},\n",
       " 4.322000000000007: {'any_win': True, 'accuracy': 0.7735849056603774},\n",
       " 4.3230000000000075: {'any_win': True, 'accuracy': 0.7735849056603774},\n",
       " 4.324000000000008: {'any_win': True, 'accuracy': 0.7681940700808625},\n",
       " 4.325000000000008: {'any_win': True, 'accuracy': 0.7681940700808625},\n",
       " 4.3260000000000085: {'any_win': True, 'accuracy': 0.7681940700808625},\n",
       " 4.327000000000009: {'any_win': True, 'accuracy': 0.7681940700808625},\n",
       " 4.328000000000009: {'any_win': True, 'accuracy': 0.7681940700808625},\n",
       " 4.3290000000000095: {'any_win': True, 'accuracy': 0.7681940700808625},\n",
       " 4.33000000000001: {'any_win': True, 'accuracy': 0.7681940700808625},\n",
       " 4.33100000000001: {'any_win': True, 'accuracy': 0.7681940700808625},\n",
       " 4.3320000000000105: {'any_win': True, 'accuracy': 0.7681940700808625},\n",
       " 4.333000000000011: {'any_win': True, 'accuracy': 0.7681940700808625},\n",
       " 4.334000000000011: {'any_win': True, 'accuracy': 0.7547169811320755},\n",
       " 4.3350000000000115: {'any_win': True, 'accuracy': 0.7547169811320755},\n",
       " 4.336000000000012: {'any_win': True, 'accuracy': 0.7547169811320755},\n",
       " 4.337000000000012: {'any_win': True, 'accuracy': 0.7547169811320755},\n",
       " 4.3380000000000125: {'any_win': True, 'accuracy': 0.7547169811320755},\n",
       " 4.339000000000013: {'any_win': True, 'accuracy': 0.7547169811320755},\n",
       " 4.340000000000013: {'any_win': True, 'accuracy': 0.7547169811320755},\n",
       " 4.3410000000000135: {'any_win': True, 'accuracy': 0.7547169811320755},\n",
       " 4.342000000000014: {'any_win': True, 'accuracy': 0.7547169811320755},\n",
       " 4.343000000000014: {'any_win': True, 'accuracy': 0.7547169811320755},\n",
       " 4.3440000000000145: {'any_win': True, 'accuracy': 0.7250673854447439},\n",
       " 4.345000000000015: {'any_win': True, 'accuracy': 0.7250673854447439},\n",
       " 4.346000000000015: {'any_win': True, 'accuracy': 0.7250673854447439},\n",
       " 4.3470000000000155: {'any_win': True, 'accuracy': 0.7250673854447439},\n",
       " 4.348000000000016: {'any_win': True, 'accuracy': 0.7250673854447439},\n",
       " 4.349000000000016: {'any_win': True, 'accuracy': 0.7250673854447439},\n",
       " 4.3500000000000165: {'any_win': True, 'accuracy': 0.7250673854447439},\n",
       " 4.351000000000017: {'any_win': True, 'accuracy': 0.7250673854447439},\n",
       " 4.352000000000017: {'any_win': True, 'accuracy': 0.7250673854447439},\n",
       " 4.3530000000000175: {'any_win': True, 'accuracy': 0.7250673854447439},\n",
       " 4.354000000000018: {'any_win': True, 'accuracy': 0.6846361185983828},\n",
       " 4.355000000000018: {'any_win': True, 'accuracy': 0.6846361185983828},\n",
       " 4.3560000000000185: {'any_win': True, 'accuracy': 0.6846361185983828},\n",
       " 4.357000000000019: {'any_win': True, 'accuracy': 0.6846361185983828},\n",
       " 4.358000000000019: {'any_win': True, 'accuracy': 0.6846361185983828},\n",
       " 4.3590000000000195: {'any_win': True, 'accuracy': 0.6846361185983828},\n",
       " 4.36000000000002: {'any_win': True, 'accuracy': 0.6846361185983828},\n",
       " 4.36100000000002: {'any_win': True, 'accuracy': 0.6846361185983828},\n",
       " 4.3620000000000205: {'any_win': True, 'accuracy': 0.6846361185983828},\n",
       " 4.363000000000021: {'any_win': True, 'accuracy': 0.6846361185983828},\n",
       " 4.364000000000021: {'any_win': True, 'accuracy': 0.6765498652291105},\n",
       " 4.3650000000000215: {'any_win': True, 'accuracy': 0.6765498652291105},\n",
       " 4.366000000000022: {'any_win': True, 'accuracy': 0.6765498652291105},\n",
       " 4.367000000000022: {'any_win': True, 'accuracy': 0.6765498652291105},\n",
       " 4.3680000000000225: {'any_win': True, 'accuracy': 0.6765498652291105},\n",
       " 4.369000000000023: {'any_win': True, 'accuracy': 0.6765498652291105},\n",
       " 4.370000000000023: {'any_win': True, 'accuracy': 0.6765498652291105},\n",
       " 4.3710000000000235: {'any_win': True, 'accuracy': 0.6765498652291105},\n",
       " 4.372000000000024: {'any_win': True, 'accuracy': 0.6765498652291105},\n",
       " 4.373000000000024: {'any_win': True, 'accuracy': 0.6765498652291105},\n",
       " 4.3740000000000245: {'any_win': True, 'accuracy': 0.6388140161725068},\n",
       " 4.375000000000025: {'any_win': True, 'accuracy': 0.6388140161725068},\n",
       " 4.376000000000025: {'any_win': True, 'accuracy': 0.6388140161725068},\n",
       " 4.3770000000000255: {'any_win': True, 'accuracy': 0.6388140161725068},\n",
       " 4.378000000000026: {'any_win': True, 'accuracy': 0.6388140161725068},\n",
       " 4.379000000000026: {'any_win': True, 'accuracy': 0.6388140161725068},\n",
       " 4.3800000000000265: {'any_win': True, 'accuracy': 0.6388140161725068},\n",
       " 4.381000000000027: {'any_win': True, 'accuracy': 0.6388140161725068},\n",
       " 4.382000000000027: {'any_win': True, 'accuracy': 0.6388140161725068},\n",
       " 4.3830000000000275: {'any_win': True, 'accuracy': 0.6388140161725068},\n",
       " 4.384000000000028: {'any_win': True, 'accuracy': 0.5929919137466307},\n",
       " 4.385000000000028: {'any_win': True, 'accuracy': 0.5929919137466307},\n",
       " 4.3860000000000285: {'any_win': True, 'accuracy': 0.5929919137466307},\n",
       " 4.387000000000029: {'any_win': True, 'accuracy': 0.5929919137466307},\n",
       " 4.388000000000029: {'any_win': True, 'accuracy': 0.5929919137466307},\n",
       " 4.3890000000000295: {'any_win': True, 'accuracy': 0.5929919137466307},\n",
       " 4.39000000000003: {'any_win': True, 'accuracy': 0.5929919137466307},\n",
       " 4.39100000000003: {'any_win': True, 'accuracy': 0.5929919137466307},\n",
       " 4.3920000000000305: {'any_win': True, 'accuracy': 0.5929919137466307},\n",
       " 4.393000000000031: {'any_win': True, 'accuracy': 0.5929919137466307},\n",
       " 4.394000000000031: {'any_win': True, 'accuracy': 0.5633423180592992},\n",
       " 4.3950000000000315: {'any_win': True, 'accuracy': 0.5633423180592992},\n",
       " 4.396000000000032: {'any_win': True, 'accuracy': 0.5633423180592992},\n",
       " 4.397000000000032: {'any_win': True, 'accuracy': 0.5633423180592992},\n",
       " 4.3980000000000325: {'any_win': True, 'accuracy': 0.5633423180592992},\n",
       " 4.399000000000033: {'any_win': True, 'accuracy': 0.5633423180592992},\n",
       " 4.400000000000033: {'any_win': True, 'accuracy': 0.5633423180592992}}"
      ]
     },
     "execution_count": 61,
     "metadata": {},
     "output_type": "execute_result"
    }
   ],
   "source": [
    "results"
   ]
  },
  {
   "cell_type": "code",
   "execution_count": 63,
   "id": "68c02bc3",
   "metadata": {},
   "outputs": [
    {
     "data": {
      "text/plain": [
       "array([0, 0, 0, 0, 0, 0, 0, 0, 0, 0, 0, 0, 0, 0, 0, 0, 0, 0, 0, 0, 0, 0,\n",
       "       0, 1, 0, 0, 0, 0, 0, 0, 0, 0, 0, 0, 0, 0, 0, 0, 1, 1, 0, 0, 0, 0,\n",
       "       0, 0, 0, 0, 0, 0, 0, 0, 0, 0, 1, 0, 0, 0, 0, 0, 0, 0, 0, 0, 0, 0,\n",
       "       0, 0, 0, 0, 0, 0, 0, 0, 1, 0, 0, 0, 0, 0, 0, 0, 0, 1, 0, 0, 0, 0,\n",
       "       0, 0, 0, 0, 0, 0, 0, 0, 0, 0, 0, 0, 0, 0, 0, 0, 0, 0, 0, 0, 0, 0,\n",
       "       0, 0, 0, 0, 0, 0, 0, 0, 0, 0, 1, 0, 0, 0, 0, 0, 0, 0, 0, 0, 0, 0,\n",
       "       0, 0, 0, 0, 0, 0, 0, 0, 0, 0, 0, 1, 0, 0, 0, 0, 0, 0, 0, 0, 0, 0,\n",
       "       0, 0, 0, 0, 0, 0, 0, 0, 0, 0, 0, 0, 0, 0, 0, 0, 0, 0, 0, 0, 0, 0,\n",
       "       0, 0, 0, 0, 0, 0, 0, 0, 0, 0, 0, 0, 1, 0, 0, 0, 0, 0, 0, 0, 0, 0,\n",
       "       0, 0, 0, 0, 0, 0, 0, 0, 0, 0, 0, 1, 0, 0, 0, 0, 0, 0, 1, 0, 0, 0,\n",
       "       0, 0, 0, 0, 0, 1, 0, 0, 0, 0, 0, 0, 0, 0, 1, 0, 0, 0, 0, 0, 0, 0,\n",
       "       0, 0, 0, 0, 0, 0, 0, 0, 0, 0, 0, 0, 0, 0, 0, 0, 0, 0, 0, 0, 0, 0,\n",
       "       0, 0, 0, 0, 0, 0, 0, 0, 0, 0, 0, 0, 0, 0, 0, 0, 0, 0, 0, 0, 0, 0,\n",
       "       0, 0, 0, 0, 0, 0, 0, 0, 0, 0, 0, 0, 0, 0, 0, 0, 0, 0, 0, 0, 0, 0,\n",
       "       0, 0, 0, 0, 0, 1, 0, 0, 0, 0, 0, 0, 0, 0, 0, 0, 0, 0, 0, 0, 0, 0,\n",
       "       0, 0, 0, 0, 0, 0, 0, 0, 0, 0, 0, 0, 0, 0, 0, 0, 0, 0, 0, 0, 0, 0,\n",
       "       0, 0, 0, 1, 0, 0, 0, 0, 0, 0, 0, 0, 0, 1, 0, 0, 0, 0, 0])"
      ]
     },
     "execution_count": 63,
     "metadata": {},
     "output_type": "execute_result"
    }
   ],
   "source": [
    "weights = {1: 4.315, 0: 1} # 'Loss' class always stays at 1\n",
    "model = LogisticRegression(random_state=0, solver='liblinear', class_weight=weights).fit(X, y)\n",
    "preds = model.predict(X)\n",
    "preds"
   ]
  },
  {
   "cell_type": "code",
   "execution_count": 64,
   "id": "2ac49a0f",
   "metadata": {},
   "outputs": [
    {
     "data": {
      "text/plain": [
       "array([[0.0022996]])"
      ]
     },
     "execution_count": 64,
     "metadata": {},
     "output_type": "execute_result"
    }
   ],
   "source": [
    "model.coef_"
   ]
  },
  {
   "cell_type": "code",
   "execution_count": null,
   "id": "f23e60e7",
   "metadata": {},
   "outputs": [],
   "source": []
  }
 ],
 "metadata": {
  "kernelspec": {
   "display_name": "Python 3 (ipykernel)",
   "language": "python",
   "name": "python3"
  },
  "language_info": {
   "codemirror_mode": {
    "name": "ipython",
    "version": 3
   },
   "file_extension": ".py",
   "mimetype": "text/x-python",
   "name": "python",
   "nbconvert_exporter": "python",
   "pygments_lexer": "ipython3",
   "version": "3.9.16"
  }
 },
 "nbformat": 4,
 "nbformat_minor": 5
}
