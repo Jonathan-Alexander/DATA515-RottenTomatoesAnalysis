{
 "cells": [
  {
   "cell_type": "markdown",
   "id": "d28726c9",
   "metadata": {},
   "source": [
    "<h1><center>Final Project Demonstation</center></h1>\n",
    "<center><h2>Rotten Tomatoes</h2></center>\n",
    "\n",
    "This is a final demonstration of the outputs of the Rotten Tomatoes research project. The research questions we set out to answer were: \n",
    "1. Historically, how well have rotten tomatoes critic scores correlated with “Best picture” Oscar wins?\n",
    "2. Historically, are rotten tomatoes ratings good predictors of wins in any category at the Oscars?\n",
    "\n",
    "Our goal was to make a research repository that made it simple to reproduce our findings. Our entire repository was set up with runner scripts that executed a certain function, and partner \"utility\" scripts that contained the functions for these runners. This design let us easily test the main components of our pipeline. "
   ]
  },
  {
   "cell_type": "markdown",
   "id": "c5564774",
   "metadata": {},
   "source": [
    "## 1. Encapsulating data download\n",
    "\n",
    "Our first task was ensuring that our datasets would download reliably, so future users could reproduce our analysis. Since we were mostly using Kaggle data, we wrote several functions to encapsulate the API calls and manage credentials. "
   ]
  },
  {
   "cell_type": "markdown",
   "id": "1dafa0ec",
   "metadata": {},
   "source": [
    "### <center><em>Code Demo</em></center>"
   ]
  },
  {
   "cell_type": "markdown",
   "id": "f5a32050",
   "metadata": {},
   "source": [
    "## 2. Data Cleaning\n",
    "One of the important artifacts of this project was our data cleaning functions. These functions add in guardrails against common data issues, such as null values, unexpected columns, or missing columns. They were designed as a series of classes that inherit from a DataCleaner base class, which centralized common checks to the data. "
   ]
  },
  {
   "cell_type": "code",
   "execution_count": 2,
   "id": "38dd1e79",
   "metadata": {},
   "outputs": [],
   "source": [
    "from rotten_tomatoes.utils.data_cleaning import (\n",
    "    DataCleaner, \n",
    "    CriticsDataCleaner, \n",
    "    MoviesDataCleaner,\n",
    "    OscarsDataCleaner, \n",
    "    BestPictureOscarsDataCleaner,\n",
    "    AnyWinOscarsDataCleaner\n",
    ")"
   ]
  },
  {
   "cell_type": "markdown",
   "id": "6d401730",
   "metadata": {},
   "source": [
    "The four data cleaners that are called by the user are CriticsDataCleaner, MoviesDataCleaner, BestPictureOscarsDataCleaner, and AnyWinOscarsDataCleaner. All objects inherit from the DataCleaner base class, and then the \"best picture\" and \"any win\" classes also inherit from OscarsDataCleaner. \n",
    "\n",
    "This class inheritance structure allowed us to reduce duplicate code. Some examples of common functionality are reading in a csv, subsetting to a list of columns, and checking for nulls. "
   ]
  },
  {
   "cell_type": "code",
   "execution_count": 5,
   "id": "10ef1427",
   "metadata": {},
   "outputs": [
    {
     "data": {
      "text/plain": [
       "True"
      ]
     },
     "execution_count": 5,
     "metadata": {},
     "output_type": "execute_result"
    }
   ],
   "source": [
    "issubclass(AnyWinOscarsDataCleaner, DataCleaner)"
   ]
  },
  {
   "cell_type": "code",
   "execution_count": 6,
   "id": "e9f5caff",
   "metadata": {},
   "outputs": [
    {
     "data": {
      "text/plain": [
       "True"
      ]
     },
     "execution_count": 6,
     "metadata": {},
     "output_type": "execute_result"
    }
   ],
   "source": [
    "issubclass(CriticsDataCleaner, DataCleaner)"
   ]
  },
  {
   "cell_type": "code",
   "execution_count": 7,
   "id": "05c2dc85",
   "metadata": {},
   "outputs": [
    {
     "data": {
      "text/plain": [
       "True"
      ]
     },
     "execution_count": 7,
     "metadata": {},
     "output_type": "execute_result"
    }
   ],
   "source": [
    "issubclass(AnyWinOscarsDataCleaner, OscarsDataCleaner)"
   ]
  },
  {
   "cell_type": "code",
   "execution_count": 8,
   "id": "f8ea8315",
   "metadata": {},
   "outputs": [
    {
     "data": {
      "text/plain": [
       "False"
      ]
     },
     "execution_count": 8,
     "metadata": {},
     "output_type": "execute_result"
    }
   ],
   "source": [
    "issubclass(MoviesDataCleaner, OscarsDataCleaner)"
   ]
  },
  {
   "cell_type": "markdown",
   "id": "6fdfff26",
   "metadata": {},
   "source": [
    "## 3. Regression Helper Classes\n",
    "Then, to run our regressions, we built several helper classes that encapsulated calls to sklearn. These made analysis very easy, and let us standardize our results across multiple research questions. "
   ]
  },
  {
   "cell_type": "code",
   "execution_count": 10,
   "id": "96a1cd5c",
   "metadata": {},
   "outputs": [],
   "source": [
    "from rotten_tomatoes.utils.regression import (\n",
    "    RegressionAnalysis,\n",
    "    CorrelationAnalysis, \n",
    "    plot_linear_fit\n",
    ")"
   ]
  },
  {
   "cell_type": "code",
   "execution_count": 38,
   "id": "25855129",
   "metadata": {},
   "outputs": [],
   "source": [
    "# Import the iris dataset from sklearn\n",
    "from sklearn import datasets\n",
    "import pandas as pd\n",
    "\n",
    "iris = datasets.load_iris()\n",
    "X = pd.DataFrame(iris.data)\n",
    "X.columns = ['sepal_length', 'sepal_width', 'petal_length', 'petal_width']\n",
    "y = iris.target"
   ]
  },
  {
   "cell_type": "code",
   "execution_count": 36,
   "id": "d63c1f90",
   "metadata": {},
   "outputs": [
    {
     "data": {
      "text/html": [
       "<div>\n",
       "<style scoped>\n",
       "    .dataframe tbody tr th:only-of-type {\n",
       "        vertical-align: middle;\n",
       "    }\n",
       "\n",
       "    .dataframe tbody tr th {\n",
       "        vertical-align: top;\n",
       "    }\n",
       "\n",
       "    .dataframe thead th {\n",
       "        text-align: right;\n",
       "    }\n",
       "</style>\n",
       "<table border=\"1\" class=\"dataframe\">\n",
       "  <thead>\n",
       "    <tr style=\"text-align: right;\">\n",
       "      <th></th>\n",
       "      <th>sepal_length</th>\n",
       "      <th>sepal_width</th>\n",
       "      <th>petal_length</th>\n",
       "      <th>petal_width</th>\n",
       "    </tr>\n",
       "  </thead>\n",
       "  <tbody>\n",
       "    <tr>\n",
       "      <th>0</th>\n",
       "      <td>5.1</td>\n",
       "      <td>3.5</td>\n",
       "      <td>1.4</td>\n",
       "      <td>0.2</td>\n",
       "    </tr>\n",
       "    <tr>\n",
       "      <th>1</th>\n",
       "      <td>4.9</td>\n",
       "      <td>3.0</td>\n",
       "      <td>1.4</td>\n",
       "      <td>0.2</td>\n",
       "    </tr>\n",
       "    <tr>\n",
       "      <th>2</th>\n",
       "      <td>4.7</td>\n",
       "      <td>3.2</td>\n",
       "      <td>1.3</td>\n",
       "      <td>0.2</td>\n",
       "    </tr>\n",
       "    <tr>\n",
       "      <th>3</th>\n",
       "      <td>4.6</td>\n",
       "      <td>3.1</td>\n",
       "      <td>1.5</td>\n",
       "      <td>0.2</td>\n",
       "    </tr>\n",
       "    <tr>\n",
       "      <th>4</th>\n",
       "      <td>5.0</td>\n",
       "      <td>3.6</td>\n",
       "      <td>1.4</td>\n",
       "      <td>0.2</td>\n",
       "    </tr>\n",
       "  </tbody>\n",
       "</table>\n",
       "</div>"
      ],
      "text/plain": [
       "   sepal_length  sepal_width  petal_length  petal_width\n",
       "0           5.1          3.5           1.4          0.2\n",
       "1           4.9          3.0           1.4          0.2\n",
       "2           4.7          3.2           1.3          0.2\n",
       "3           4.6          3.1           1.5          0.2\n",
       "4           5.0          3.6           1.4          0.2"
      ]
     },
     "execution_count": 36,
     "metadata": {},
     "output_type": "execute_result"
    }
   ],
   "source": [
    "X.head()"
   ]
  },
  {
   "cell_type": "code",
   "execution_count": 40,
   "id": "0e416457",
   "metadata": {},
   "outputs": [
    {
     "data": {
      "text/html": [
       "<div>\n",
       "<style scoped>\n",
       "    .dataframe tbody tr th:only-of-type {\n",
       "        vertical-align: middle;\n",
       "    }\n",
       "\n",
       "    .dataframe tbody tr th {\n",
       "        vertical-align: top;\n",
       "    }\n",
       "\n",
       "    .dataframe thead th {\n",
       "        text-align: right;\n",
       "    }\n",
       "</style>\n",
       "<table border=\"1\" class=\"dataframe\">\n",
       "  <thead>\n",
       "    <tr style=\"text-align: right;\">\n",
       "      <th></th>\n",
       "      <th>target</th>\n",
       "    </tr>\n",
       "  </thead>\n",
       "  <tbody>\n",
       "    <tr>\n",
       "      <th>0</th>\n",
       "      <td>0</td>\n",
       "    </tr>\n",
       "    <tr>\n",
       "      <th>1</th>\n",
       "      <td>0</td>\n",
       "    </tr>\n",
       "    <tr>\n",
       "      <th>2</th>\n",
       "      <td>0</td>\n",
       "    </tr>\n",
       "    <tr>\n",
       "      <th>3</th>\n",
       "      <td>0</td>\n",
       "    </tr>\n",
       "    <tr>\n",
       "      <th>4</th>\n",
       "      <td>0</td>\n",
       "    </tr>\n",
       "  </tbody>\n",
       "</table>\n",
       "</div>"
      ],
      "text/plain": [
       "   target\n",
       "0       0\n",
       "1       0\n",
       "2       0\n",
       "3       0\n",
       "4       0"
      ]
     },
     "execution_count": 40,
     "metadata": {},
     "output_type": "execute_result"
    }
   ],
   "source": [
    "y = pd.DataFrame(y, columns=['target'])\n",
    "y.head()"
   ]
  },
  {
   "cell_type": "code",
   "execution_count": 41,
   "id": "a1ff6cdb",
   "metadata": {},
   "outputs": [],
   "source": [
    "# Create regression analysis object \n",
    "analysis = RegressionAnalysis(X, y, is_categorical=True)"
   ]
  },
  {
   "cell_type": "code",
   "execution_count": 44,
   "id": "d834152a",
   "metadata": {},
   "outputs": [
    {
     "data": {
      "text/plain": [
       "(112, 4)"
      ]
     },
     "execution_count": 44,
     "metadata": {},
     "output_type": "execute_result"
    }
   ],
   "source": [
    "# This automatically splits train/test for you! \n",
    "# Default test percentage is 0.25, but you can change with the \"test_size\" argument\n",
    "analysis.X_train_.shape"
   ]
  },
  {
   "cell_type": "code",
   "execution_count": 45,
   "id": "ec5c8526",
   "metadata": {},
   "outputs": [],
   "source": [
    "# Set the columns you want to use as inputs to your regression \n",
    "analysis.set_X_cols(['sepal_length', 'sepal_width'])"
   ]
  },
  {
   "cell_type": "code",
   "execution_count": 46,
   "id": "1856ed61",
   "metadata": {},
   "outputs": [
    {
     "name": "stderr",
     "output_type": "stream",
     "text": [
      "/home/elineb/miniconda3/envs/rta/lib/python3.10/site-packages/sklearn/utils/validation.py:1143: DataConversionWarning: A column-vector y was passed when a 1d array was expected. Please change the shape of y to (n_samples, ), for example using ravel().\n",
      "  y = column_or_1d(y, warn=True)\n"
     ]
    }
   ],
   "source": [
    "# Train the model \n",
    "analysis.fit_train()"
   ]
  },
  {
   "cell_type": "code",
   "execution_count": 47,
   "id": "53f303aa",
   "metadata": {},
   "outputs": [
    {
     "data": {
      "text/plain": [
       "0.868421052631579"
      ]
     },
     "execution_count": 47,
     "metadata": {},
     "output_type": "execute_result"
    }
   ],
   "source": [
    "# Review the test accuracy \n",
    "analysis.score_test()"
   ]
  },
  {
   "cell_type": "code",
   "execution_count": 48,
   "id": "51ef0d53",
   "metadata": {},
   "outputs": [
    {
     "data": {
      "text/plain": [
       "array([1, 2, 2, 1, 0, 1, 1, 0, 0, 1, 2, 0, 1, 2, 2, 2, 0, 0, 1, 0, 0, 1,\n",
       "       0, 1, 0, 0, 0, 1, 2, 0, 2, 1, 0, 0, 1, 1, 2, 0])"
      ]
     },
     "execution_count": 48,
     "metadata": {},
     "output_type": "execute_result"
    }
   ],
   "source": [
    "# View the test set predictions\n",
    "analysis.predict_test()"
   ]
  }
 ],
 "metadata": {
  "kernelspec": {
   "display_name": "Python 3 (ipykernel)",
   "language": "python",
   "name": "python3"
  },
  "language_info": {
   "codemirror_mode": {
    "name": "ipython",
    "version": 3
   },
   "file_extension": ".py",
   "mimetype": "text/x-python",
   "name": "python",
   "nbconvert_exporter": "python",
   "pygments_lexer": "ipython3",
   "version": "3.10.9"
  }
 },
 "nbformat": 4,
 "nbformat_minor": 5
}
